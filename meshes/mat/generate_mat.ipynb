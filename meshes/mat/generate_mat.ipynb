{
 "cells": [
  {
   "cell_type": "code",
   "execution_count": 39,
   "metadata": {},
   "outputs": [],
   "source": [
    "def sum_times(sim, key):\n",
    "    return sum(info[\"info\"][key] * info[\"info\"][\"iterations\"] for info in sim[\"solver_info\"])"
   ]
  },
  {
   "cell_type": "code",
   "execution_count": 50,
   "metadata": {},
   "outputs": [
    {
     "name": "stdout",
     "output_type": "stream",
     "text": [
      "0h 2m 47s 73.34 43.03 39.60 2166\n",
      "6h 7m 12s 1320.42 10094.66 8633.95 54150\n",
      "6h 19m 52s 4133.37 4672.27 11454.89 2166\n",
      "62h 13m 7s 8505.35 106885.78 94898.60 229992\n"
     ]
    }
   ],
   "source": [
    "import json\n",
    "\n",
    "sim_jsons = [\n",
    "    \"/Users/zachary/Library/CloudStorage/GoogleDrive-zjf214@nyu.edu/My Drive/research/ipc/high-order/simulations/stress-tests/mat-twist-P1-coarse/sim.json\",\n",
    "    \"/Users/zachary/Library/CloudStorage/GoogleDrive-zjf214@nyu.edu/My Drive/research/ipc/high-order/simulations/stress-tests/mat-twist-P1-96x96/sim.json\",\n",
    "    \"/Users/zachary/Library/CloudStorage/GoogleDrive-zjf214@nyu.edu/My Drive/research/ipc/high-order/simulations/stress-tests/mat-twist-P2/sim.json\",\n",
    "    \"/Users/zachary/Library/CloudStorage/GoogleDrive-zjf214@nyu.edu/My Drive/research/ipc/high-order/simulations/stress-tests/mat-twist-P1/sim.json\",\n",
    "]\n",
    "for sim_json in sim_jsons:\n",
    "    with open(sim_json) as f:\n",
    "        sim = json.load(f)\n",
    "\n",
    "    collision_time = sum_times(sim, \"time_broad_phase_ccd\") + sum_times(sim, \"time_ccd\") + sum_times(sim, \"time_constraint_set_update\")\n",
    "    solving_time = sum_times(sim, \"time_inverting\") \n",
    "    assembly_time = sum_times(sim, \"time_assembly\")\n",
    "    total_time = sum(info[\"info\"][\"total_time\"] for info in sim[\"solver_info\"])\n",
    "    print(\"{}h {}m {:.0f}s\".format(int(total_time // (60*60)), int(total_time // 60 % 60), total_time % 60), \n",
    "          f\"{collision_time:.2f}\", f\"{solving_time:.2f}\", f\"{assembly_time:.2f}\", sim[\"count_simplex\"])"
   ]
  },
  {
   "cell_type": "code",
   "execution_count": 56,
   "metadata": {},
   "outputs": [
    {
     "data": {
      "text/plain": [
       "80000"
      ]
     },
     "execution_count": 56,
     "metadata": {},
     "output_type": "execute_result"
    }
   ],
   "source": [
    "200 * 200 * 2"
   ]
  },
  {
   "cell_type": "code",
   "execution_count": 152,
   "metadata": {},
   "outputs": [],
   "source": [
    "def print_sign(x):\n",
    "    for i in range(x.shape[0]):\n",
    "        for j in range(x.shape[1]):\n",
    "            if x[i,j] > 0:\n",
    "                print(\"+\", end=\"\")\n",
    "            elif x[i,j] < 0:\n",
    "                print(\"-\", end=\"\")\n",
    "            else:\n",
    "                print(\"0\", end=\"\")\n",
    "        print()\n",
    "\n",
    "def tet_volume(a, b, c, d):\n",
    "    return abs(np.dot(a-d, np.cross(b-d, c-d))) / 6"
   ]
  },
  {
   "cell_type": "code",
   "execution_count": 1,
   "metadata": {},
   "outputs": [],
   "source": [
    "import numpy as np\n",
    "import itertools\n",
    "import meshio\n",
    "\n",
    "HEX_TO_TETS = np.array([\n",
    "    [1, 3, 8, 7],\n",
    "    [1, 3, 4, 8],\n",
    "    [1, 4, 2, 8],\n",
    "    [6, 1, 2, 8],\n",
    "    [6, 1, 8, 5],\n",
    "    [8, 1, 7, 5],\n",
    "]) - 1\n",
    "\n",
    "save_hexes = False\n",
    "\n",
    "for n in range(92, 100, 2):\n",
    "    points = np.array([\n",
    "        [x, y, z] for y, z, x in itertools.product([-0.0065, 0.0065], np.linspace(-0.5, 0.5, n), np.linspace(-0.5, 0.5, n))\n",
    "    ])\n",
    "    cells = []\n",
    "    for i, j in itertools.product(range(n-1), range(n-1)):\n",
    "        v0 = i * n + j\n",
    "        if save_hexes:\n",
    "            # GMSH Order\n",
    "            hex = np.array([v0, v0 + 1, v0 + n + 1, v0 + n])\n",
    "            hex = np.concatenate([hex, hex + n * n])\n",
    "            cells.append(hex)\n",
    "        else:\n",
    "            hex = np.array([v0, v0 + n, v0 + n * n, v0 + n * n + n])\n",
    "            hex = np.concatenate([hex, hex + 1])\n",
    "            cells.extend(hex[HEX_TO_TETS])\n",
    "    cells = {\"hexahedron\" if save_hexes else \"tetra\": np.array(cells)}\n",
    "    mesh = meshio.Mesh(points, cells)\n",
    "    mesh.write(f\"mat{n}x{n}.msh\", file_format=\"gmsh\")"
   ]
  },
  {
   "cell_type": "code",
   "execution_count": 154,
   "metadata": {},
   "outputs": [],
   "source": [
    "for n in [70, 80, 90]:\n",
    "    with open(f\"mat{n}x{n}.obj\", \"w\") as f:\n",
    "        for y in [-0.0065, 0.0065]:\n",
    "            for x in np.linspace(-0.5, 0.5, n):\n",
    "                for z in np.linspace(-0.5, 0.5, n):\n",
    "                    f.write(f\"v {x} {y} {z}\\n\")\n",
    "        for k in range(2):\n",
    "            for i in range(n-1):\n",
    "                for j in range(n-1):\n",
    "                    v0 = (k * n + i) * n + j + 1\n",
    "                    v1 = v0 + 1\n",
    "                    v2 = v1 + n\n",
    "                    v3 = v2 - 1\n",
    "                    if k == 0: \n",
    "                        v0, v1, v2, v3 = v3, v2, v1, v0\n",
    "                    f.write(f\"f {v0} {v1} {v2}\\n\")\n",
    "                    f.write(f\"f {v2} {v3} {v0}\\n\")\n",
    "        for k in [0, 1]:\n",
    "            for i in range(n-1):\n",
    "                v0 = n * i + 1 + k * (n-1)\n",
    "                v1 = v0 + n * n\n",
    "                v2 = v1 + n\n",
    "                v3 = v2 - n * n\n",
    "                if k == 1: \n",
    "                    v0, v1, v2, v3 = v3, v2, v1, v0\n",
    "                f.write(f\"f {v0} {v1} {v2}\\n\")\n",
    "                f.write(f\"f {v2} {v3} {v0}\\n\")\n",
    "        for k in [0, 1]:\n",
    "            for i in range(n-1):\n",
    "                v0 = i + 1 + k * n * (n - 1)\n",
    "                v1 = v0 + 1\n",
    "                v2 = v1 + n * n\n",
    "                v3 = v2 - 1\n",
    "                if k == 1: \n",
    "                    v0, v1, v2, v3 = v3, v2, v1, v0\n",
    "                f.write(f\"f {v0} {v1} {v2}\\n\")\n",
    "                f.write(f\"f {v2} {v3} {v0}\\n\")"
   ]
  },
  {
   "cell_type": "code",
   "execution_count": 155,
   "metadata": {},
   "outputs": [
    {
     "name": "stdout",
     "output_type": "stream",
     "text": [
      "---\n",
      "--+\n",
      "-+-\n",
      "-++\n",
      "+--\n",
      "+-+\n",
      "++-\n",
      "+++\n"
     ]
    }
   ],
   "source": [
    "cube = []\n",
    "for x in [-1.0, 1.0]:\n",
    "    for y in [-1.0, 1.0]:\n",
    "        for z in [-1.0, 1.0]:\n",
    "            cube.append([x, y, z])\n",
    "cube = np.array(cube)\n",
    "print_sign(cube)"
   ]
  },
  {
   "cell_type": "code",
   "execution_count": null,
   "metadata": {},
   "outputs": [],
   "source": []
  }
 ],
 "metadata": {
  "kernelspec": {
   "display_name": "Python 3",
   "language": "python",
   "name": "python3"
  },
  "language_info": {
   "codemirror_mode": {
    "name": "ipython",
    "version": 3
   },
   "file_extension": ".py",
   "mimetype": "text/x-python",
   "name": "python",
   "nbconvert_exporter": "python",
   "pygments_lexer": "ipython3",
   "version": "3.11.2"
  },
  "orig_nbformat": 4
 },
 "nbformat": 4,
 "nbformat_minor": 2
}
