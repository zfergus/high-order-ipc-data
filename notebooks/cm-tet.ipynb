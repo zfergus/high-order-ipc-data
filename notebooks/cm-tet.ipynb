{
 "cells": [
  {
   "cell_type": "code",
   "execution_count": 22,
   "metadata": {},
   "outputs": [],
   "source": [
    "import meshio as mio\n",
    "import numpy as np\n",
    "from scipy.io import savemat\n",
    "import meshplot as mp\n",
    "import torch\n",
    "import numpy as np\n",
    "import matplotlib.pyplot as plt\n",
    "import igl\n",
    "# from pydec import simplicial_complex, d, delta, whitney_innerproduct\n",
    "\n",
    "torch.set_printoptions(precision=16)"
   ]
  },
  {
   "cell_type": "code",
   "execution_count": 23,
   "metadata": {},
   "outputs": [],
   "source": [
    "def vec_mass(rho, V, T):\n",
    "    Vs = V[T, :]\n",
    "    vol = torch.linalg.det(Vs[:, 1:4, :] - Vs[:, 0:3, :])\n",
    "    tmp = rho*vol\n",
    "    \n",
    "    mass = torch.sum(tmp)\n",
    "    \n",
    "    return mass\n",
    "\n",
    "# def vec_mass(rho, vol):\n",
    "#     tmp = rho*vol\n",
    "#     mass = torch.sum(tmp)\n",
    "    \n",
    "#     return mass"
   ]
  },
  {
   "cell_type": "code",
   "execution_count": 24,
   "metadata": {},
   "outputs": [],
   "source": [
    "def vec_cm(rho, V, T):\n",
    "    Vs = V[T, :]\n",
    "    vol = torch.linalg.det(Vs[:, 1:4, :] - Vs[:, 0:3, :])\n",
    "    tmp = rho*vol\n",
    "    \n",
    "    cm = torch.sum(tmp*torch.mean(Vs, axis=1).T, axis=1)\n",
    "    mass = torch.sum(tmp)\n",
    "    \n",
    "    return cm / mass\n",
    "\n",
    "# def vec_cm(rho, V, T, vol):\n",
    "#     Vs = V[T, :]\n",
    "#     vol = torch.linalg.det(Vs[:, 1:4, :] - Vs[:, 0:3, :])\n",
    "#     tmp = rho*torch.tensor(vol)\n",
    "    \n",
    "#     cm = torch.sum(tmp*torch.mean(Vs, axis=1).T, axis=1)\n",
    "#     mass = torch.sum(tmp)\n",
    "    \n",
    "#     return cm / mass\n",
    "\n",
    "# def vec_cm(rho, V, T, vol):\n",
    "#     Vs = V[T, :]\n",
    "#     tmp = torch.tensor(vol)*rho\n",
    "#     com = torch.zeros(3)\n",
    "#     for i, t in enumerate(T):\n",
    "#         com += tmp[i] * torch.mean(V[t], axis=0)\n",
    "\n",
    "#     com = com/torch.sum(tmp)\n",
    "    \n",
    "#     return com"
   ]
  },
  {
   "cell_type": "code",
   "execution_count": 25,
   "metadata": {},
   "outputs": [],
   "source": [
    "def vec_energy(r, newcm, V, T):\n",
    "    return torch.sum((newcm - vec_cm(r,V,T))**2);\n",
    "\n",
    "# def vec_energy(r, newcm, V, T, vol):\n",
    "#     return torch.sum((newcm - vec_cm(r,V,T, vol))**2);"
   ]
  },
  {
   "cell_type": "code",
   "execution_count": 27,
   "metadata": {},
   "outputs": [
    {
     "name": "stdout",
     "output_type": "stream",
     "text": [
      "torch.Size([7248, 4, 3])\n",
      "[0.40570231 0.55690153 0.53282308] 160.65093968983737\n"
     ]
    }
   ],
   "source": [
    "m = mio.read(\"../meshes/armadillo-standing/armadillo-hollow-coarse.msh\")\n",
    "# m = mio.read(\"gargoyle.msh\")\n",
    "V = m.points\n",
    "T = m.cells[0].data\n",
    "input_rho = 1000\n",
    "\n",
    "\n",
    "V = torch.tensor(V, dtype = torch.float64)\n",
    "T = torch.tensor(T, dtype = torch.int64)\n",
    "\n",
    "print(V[T,:].shape)\n",
    "\n",
    "vol = igl.volume(V.numpy(), T.numpy())\n",
    "# vol = 0.5 *igl.doublearea(V.numpy(), T.numpy())\n",
    "\n",
    "# err = torch.tensor(vol) - torch.linalg.det(V[T,:][:, 1:4, :] - V[T,:][:, 0:3, :])\n",
    "# print(np.linalg.norm(err, np.inf))\n",
    "\n",
    "rt = torch.ones(T.shape[0], dtype = torch.float64)*input_rho\n",
    "target = vec_cm(rt, V, T).detach()\n",
    "target_mass = vec_mass(rt, V, T).detach()\n",
    "\n",
    "print(target.numpy(), target_mass.numpy())\n",
    "\n",
    "####################################\n",
    "\n",
    "m = mio.read(\"../meshes/armadillo-standing/armadillo-hollow-coarser.msh\")\n",
    "# m = mio.read(\"gargoyle-coarse.msh\")\n",
    "V = m.points\n",
    "T = m.cells[0].data\n",
    "\n",
    "V = torch.tensor(V, dtype = torch.float64)\n",
    "T = torch.tensor(T, dtype = torch.int64)\n",
    "\n",
    "vol = igl.volume(V.numpy(), T.numpy())\n",
    "# vol = 0.5 *igl.doublearea(V.numpy(), T.numpy())"
   ]
  },
  {
   "cell_type": "code",
   "execution_count": 28,
   "metadata": {},
   "outputs": [
    {
     "name": "stdout",
     "output_type": "stream",
     "text": [
      "[0.40706509 0.5606683  0.52471773]\n",
      "0\n",
      "50\n",
      "100\n",
      "150\n",
      "200\n",
      "250\n",
      "300\n",
      "350\n",
      "400\n",
      "450\n",
      "500\n",
      "550\n",
      "600\n",
      "650\n",
      "700\n",
      "750\n",
      "800\n",
      "850\n",
      "900\n",
      "950\n",
      "9.171163040186808e-14\n",
      "opt: [0.40570234 0.55690162 0.5328228 ] vs target: [0.40570231 0.55690153 0.53282308]\n",
      "opt: 160.6509396898374 vs target: 160.65093968983737\n",
      "start: 0.009041153434989844 opt: 3.028392814709942e-07\n",
      "min rho: 419.308655821762 max rho: 1349.7702746239522\n",
      "2.976348522023781e-07\n"
     ]
    }
   ],
   "source": [
    "# L-BFGS\n",
    "r0 = np.random.rand(T.shape[0])+1\n",
    "r0 = torch.tensor(r0, requires_grad=True, dtype = torch.float64)\n",
    "# r0 = torch.rand(T.shape[0], requires_grad=True, dtype = torch.float64)\n",
    "# target = torch.tensor([0.4,0,0])\n",
    "print(vec_cm(r0, V, T).detach().numpy())\n",
    "\n",
    "optimizer = torch.optim.Adam([r0])#,\n",
    "#                               lr=0.1,\n",
    "#                               history_size=20,\n",
    "#                               max_iter=10,\n",
    "#                               line_search_fn=\"strong_wolfe\")\n",
    "\n",
    "f = lambda r: vec_energy(r, target, V, T)\n",
    "vv = []\n",
    "for i in range(1000):\n",
    "    if i % 50 == 0:\n",
    "        print(i)\n",
    "    optimizer.zero_grad()\n",
    "    objective = f(r0)\n",
    "    objective.backward()\n",
    "    optimizer.step(lambda: f(r0))\n",
    "    vv.append(objective.item())\n",
    "    \n",
    "    if objective.item() < 1e-14:\n",
    "        break\n",
    "    \n",
    "print(vv[-1])\n",
    "# plt.semilogy(vv)\n",
    "\n",
    "opt = r0.detach()\n",
    "opt_mass = vec_mass(opt, V, T).detach()\n",
    "opt *=  target_mass/opt_mass\n",
    "opt_mass = vec_mass(opt, V, T).detach()\n",
    "opt = opt.numpy()\n",
    "\n",
    "print(\"opt:\", vec_cm(r0, V, T).detach().numpy(), \"vs target:\", target.numpy())\n",
    "print(\"opt:\", opt_mass.numpy(), \"vs target:\", target_mass.numpy())\n",
    "\n",
    "print(\"start:\", np.sqrt(vv[0]),\"opt:\",np.sqrt(vv[-1]))\n",
    "print(\"min rho:\", np.min(opt), \"max rho:\",np.max(opt))\n",
    "\n",
    "print(np.linalg.norm(vec_cm(r0, V, T).detach().numpy()-target.numpy()))"
   ]
  },
  {
   "cell_type": "code",
   "execution_count": 29,
   "metadata": {},
   "outputs": [
    {
     "name": "stdout",
     "output_type": "stream",
     "text": [
      "1.236734521486551330e+03\n",
      "6.566906757850043732e+02\n",
      "1.040158487494471501e+03\n",
      "8.666240324183106623e+02\n",
      "7.258217247189123782e+02\n",
      "9.127904544716410555e+02\n",
      "6.842616719538505095e+02\n",
      "8.171577584912782868e+02\n",
      "8.959478350328574834e+02\n",
      "1.309390548947835669e+03\n"
     ]
    }
   ],
   "source": [
    "np.savetxt(\"rhos.txt\", opt)\n",
    "!head rhos.txt"
   ]
  },
  {
   "cell_type": "code",
   "execution_count": null,
   "metadata": {},
   "outputs": [],
   "source": []
  }
 ],
 "metadata": {
  "kernelspec": {
   "display_name": "Python 3 (ipykernel)",
   "language": "python",
   "name": "python3"
  },
  "language_info": {
   "codemirror_mode": {
    "name": "ipython",
    "version": 3
   },
   "file_extension": ".py",
   "mimetype": "text/x-python",
   "name": "python",
   "nbconvert_exporter": "python",
   "pygments_lexer": "ipython3",
   "version": "3.9.7"
  }
 },
 "nbformat": 4,
 "nbformat_minor": 4
}
