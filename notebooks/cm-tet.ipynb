{
 "cells": [
  {
   "cell_type": "code",
   "execution_count": 1,
   "metadata": {},
   "outputs": [],
   "source": [
    "import meshio as mio\n",
    "import numpy as np\n",
    "from scipy.io import savemat\n",
    "import meshplot as mp\n",
    "import torch\n",
    "import numpy as np\n",
    "import matplotlib.pyplot as plt\n",
    "import igl"
   ]
  },
  {
   "cell_type": "code",
   "execution_count": 2,
   "metadata": {},
   "outputs": [],
   "source": [
    "def vec_mass(rho, V, T):\n",
    "    Vs = V[T, :]\n",
    "    vol = torch.linalg.det(Vs[:, 1:4, :] - Vs[:, 0:3, :])\n",
    "    tmp = rho*vol\n",
    "    \n",
    "    mass = torch.sum(tmp)\n",
    "    \n",
    "    return mass"
   ]
  },
  {
   "cell_type": "code",
   "execution_count": 3,
   "metadata": {},
   "outputs": [],
   "source": [
    "def vec_cm(rho, V, T):\n",
    "    Vs = V[T, :]\n",
    "    vol = torch.linalg.det(Vs[:, 1:4, :] - Vs[:, 0:3, :])\n",
    "    tmp = rho*vol\n",
    "    \n",
    "    cm = torch.sum(tmp*torch.mean(Vs, axis=1).T, axis=1)\n",
    "    mass = torch.sum(tmp)\n",
    "    \n",
    "    return cm / mass"
   ]
  },
  {
   "cell_type": "code",
   "execution_count": 4,
   "metadata": {},
   "outputs": [],
   "source": [
    "def vec_energy(r, newcm, V, T):\n",
    "    return torch.sum((newcm - vec_cm(r,V,T))**2);"
   ]
  },
  {
   "cell_type": "code",
   "execution_count": 5,
   "metadata": {},
   "outputs": [
    {
     "name": "stdout",
     "output_type": "stream",
     "text": [
      "\n",
      "[-4.99457255 -0.35278529  1.86683635] 123.97748336298699\n",
      "\n"
     ]
    }
   ],
   "source": [
    "m = mio.read(\"gargoyle.msh\")\n",
    "V = m.points\n",
    "T = m.cells[0].data\n",
    "input_rho = 1.11\n",
    "\n",
    "\n",
    "V = torch.tensor(V, dtype = torch.float64)\n",
    "T = torch.tensor(T, dtype = torch.int64)\n",
    "\n",
    "rt = torch.ones(T.shape[0], dtype = torch.float64)*input_rho\n",
    "target = vec_cm(rt, V, T).detach()\n",
    "target_mass = vec_mass(rt, V, T).detach()\n",
    "print(target.numpy(), target_mass.numpy())\n",
    "\n",
    "\n",
    "####################################\n",
    "\n",
    "m = mio.read(\"gargoyle-coarse.msh\")\n",
    "V = m.points\n",
    "T = m.cells[0].data\n",
    "\n",
    "V = torch.tensor(V, dtype = torch.float64)\n",
    "T = torch.tensor(T, dtype = torch.int64)"
   ]
  },
  {
   "cell_type": "code",
   "execution_count": 11,
   "metadata": {},
   "outputs": [
    {
     "name": "stdout",
     "output_type": "stream",
     "text": [
      "[-4.99307055 -0.35527529  1.86930643]\n",
      "0\n",
      "50\n",
      "100\n",
      "150\n",
      "200\n",
      "250\n",
      "300\n",
      "350\n",
      "400\n",
      "450\n",
      "500\n",
      "550\n",
      "600\n",
      "650\n",
      "700\n",
      "750\n",
      "800\n",
      "850\n",
      "900\n",
      "950\n",
      "1.1040282970515243e-10\n",
      "opt: [-4.9945784  -0.35278117  1.86682866] vs target: [-4.99457255 -0.35278529  1.86683635]\n",
      "opt: 123.97748336298699 vs target: 123.97748336298699\n",
      "start: 0.00381541423630451 opt: 1.050727508468073e-05\n",
      "min rho: 1.1002821223025225 max rho: 1.1457655456703004\n"
     ]
    }
   ],
   "source": [
    "# L-BFGS\n",
    "r0 = torch.ones(T.shape[0], requires_grad=True, dtype = torch.float64)\n",
    "# target = torch.tensor([0.4,0,0])\n",
    "print(vec_cm(r0, V, T).detach().numpy())\n",
    "\n",
    "optimizer = torch.optim.LBFGS([r0],\n",
    "                        history_size=10,\n",
    "                        max_iter=4,\n",
    "                        line_search_fn=\"strong_wolfe\")\n",
    "\n",
    "\n",
    "f = lambda r: vec_energy(r, target, V, T)\n",
    "vv = []\n",
    "for i in range(1000):\n",
    "    if i % 50 == 0:\n",
    "        print(i)\n",
    "    optimizer.zero_grad()\n",
    "    objective = f(r0)\n",
    "    objective.backward()\n",
    "    optimizer.step(lambda: f(r0))\n",
    "    vv.append(objective.item())\n",
    "    \n",
    "    if objective.item() < 1e-10:\n",
    "        break\n",
    "    \n",
    "print(vv[-1])\n",
    "# plt.semilogy(vv)\n",
    "\n",
    "opt = r0.detach()\n",
    "opt_mass = vec_mass(opt, V, T).detach()\n",
    "opt *=  target_mass/opt_mass\n",
    "opt_mass = vec_mass(opt, V, T).detach()\n",
    "opt = opt.numpy()\n",
    "\n",
    "print(\"opt:\", vec_cm(r0, V, T).detach().numpy(), \"vs target:\", target.numpy())\n",
    "print(\"opt:\", opt_mass.numpy(), \"vs target:\", target_mass.numpy())\n",
    "\n",
    "print(\"start:\", np.sqrt(vv[0]),\"opt:\",np.sqrt(vv[-1]))\n",
    "print(\"min rho:\", np.min(opt), \"max rho:\",np.max(opt))"
   ]
  },
  {
   "cell_type": "code",
   "execution_count": 12,
   "metadata": {},
   "outputs": [
    {
     "name": "stdout",
     "output_type": "stream",
     "text": [
      "1.123617475864233484e+03\r\n",
      "1.124838774734135541e+03\r\n",
      "1.125122275581669101e+03\r\n",
      "1.122988821744089591e+03\r\n",
      "1.121117169549749406e+03\r\n",
      "1.123153010924729415e+03\r\n",
      "1.124248368072963785e+03\r\n",
      "1.123044265833254258e+03\r\n",
      "1.118778588644108595e+03\r\n",
      "1.123073333187630624e+03\r\n"
     ]
    }
   ],
   "source": [
    "np.savetxt(\"rhos.txt\", opt*1000)\n",
    "!head rhos.txt"
   ]
  },
  {
   "cell_type": "code",
   "execution_count": null,
   "metadata": {},
   "outputs": [],
   "source": []
  }
 ],
 "metadata": {
  "kernelspec": {
   "display_name": "Python 3 (ipykernel)",
   "language": "python",
   "name": "python3"
  },
  "language_info": {
   "codemirror_mode": {
    "name": "ipython",
    "version": 3
   },
   "file_extension": ".py",
   "mimetype": "text/x-python",
   "name": "python",
   "nbconvert_exporter": "python",
   "pygments_lexer": "ipython3",
   "version": "3.9.12"
  }
 },
 "nbformat": 4,
 "nbformat_minor": 4
}
