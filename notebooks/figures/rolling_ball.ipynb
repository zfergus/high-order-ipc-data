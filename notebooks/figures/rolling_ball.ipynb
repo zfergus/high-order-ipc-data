{
 "cells": [
  {
   "attachments": {},
   "cell_type": "markdown",
   "id": "bc4a4d48",
   "metadata": {},
   "source": [
    "# Rolling Ball Figure"
   ]
  },
  {
   "cell_type": "code",
   "execution_count": 1,
   "id": "11109820-bbdb-48ca-b52e-faa436f319ca",
   "metadata": {},
   "outputs": [],
   "source": [
    "import numpy as np\n",
    "import pathlib\n",
    "import meshio\n",
    "import trimesh\n",
    "import igl\n",
    "import plotly.graph_objects as go\n",
    "import plotly.io as pio\n",
    "from plotly.subplots import make_subplots\n",
    "from tqdm import tqdm"
   ]
  },
  {
   "cell_type": "code",
   "execution_count": 2,
   "id": "9d69113f",
   "metadata": {},
   "outputs": [],
   "source": [
    "matlab_colors = ['#0072BD', '#D95319', '#EDB120', '#7E2F8E', '#77AC30', '#4DBEEE', '#A2142F']"
   ]
  },
  {
   "cell_type": "code",
   "execution_count": 3,
   "id": "ed05278e",
   "metadata": {},
   "outputs": [],
   "source": [
    "baseline_results_dir = pathlib.Path('../../results/slope/baseline/')\n",
    "our_results_dir = pathlib.Path('../../results/slope/bc/')"
   ]
  },
  {
   "cell_type": "code",
   "execution_count": 4,
   "id": "1adc4e2b",
   "metadata": {},
   "outputs": [],
   "source": [
    "def fix_normals(V, F):\n",
    "    mesh = trimesh.Trimesh(V, F, process=False, validate=False)\n",
    "    trimesh.repair.fix_normals(mesh)\n",
    "    return mesh.faces\n",
    "\n",
    "\n",
    "def load_mesh(path):\n",
    "    mesh = meshio.read(path)\n",
    "\n",
    "    V, I, J, _ = igl.remove_duplicate_vertices(\n",
    "        mesh.points, np.array([], dtype=int), 1e-7)\n",
    "\n",
    "    CV = []  # codim vertices\n",
    "    E = []  # edges\n",
    "    F = []  # triangles\n",
    "    T = []  # tetrahedra\n",
    "    for cells in mesh.cells:\n",
    "        if cells.type == \"triangle\":\n",
    "            F.append(J[cells.data])\n",
    "        elif cells.type == \"tetra\":\n",
    "            # F.append(fix_normals(V, igl.boundary_facets(J[cells.data])))\n",
    "            T.append(J[cells.data])\n",
    "        elif cells.type == \"line\":\n",
    "            E.append(J[cells.data])\n",
    "        elif cells.type == \"vertex\":\n",
    "            CV.append(J[cells.data])\n",
    "        else:\n",
    "            raise Exception(\"Unsupported cell type: {}\".format(cells.type))\n",
    "\n",
    "    cells = []\n",
    "    if T:\n",
    "        cells.append((\"tetra\", np.vstack(T)))\n",
    "    if F:\n",
    "        cells.append((\"triangle\", np.vstack(F)))\n",
    "    if E:\n",
    "        cells.append((\"line\", np.vstack(E)))\n",
    "    if CV:\n",
    "        cells.append((\"vertex\", np.vstack(CV)))\n",
    "\n",
    "    if \"solution\" in mesh.point_data:\n",
    "        V += mesh.point_data[\"solution\"][I]\n",
    "\n",
    "    point_data = dict((k, v[I]) for k, v in mesh.point_data.items())\n",
    "    if \"E\" in point_data:\n",
    "        point_data[\"is_obstacle\"] = (point_data[\"E\"] == 0).flatten()\n",
    "    else:\n",
    "        point_data[\"is_obstacle\"] = np.zeros((V.shape[0],), dtype=bool)\n",
    "\n",
    "    # V[point_data[\"is_obstacle\"]] *= [[1e3, 0, 1e3]]\n",
    "\n",
    "    mesh = meshio.Mesh(points=V, cells=cells, point_data=point_data)\n",
    "\n",
    "    return mesh"
   ]
  },
  {
   "cell_type": "code",
   "execution_count": 5,
   "id": "60c91200",
   "metadata": {},
   "outputs": [],
   "source": [
    "def compute_out_of_plane_friction_force(mesh, ord=1):\n",
    "    assert(mesh.cells[1].type == \"triangle\")\n",
    "    plane = mesh.points[mesh.cells[1].data[0]]\n",
    "    n = np.cross(plane[1] - plane[0], plane[2] - plane[0])\n",
    "    n /= np.linalg.norm(n)\n",
    "    return np.linalg.norm([ff.dot(n) for ff in mesh.point_data[\"friction_forces\"]], ord=ord)"
   ]
  },
  {
   "cell_type": "code",
   "execution_count": 6,
   "id": "df6c5ff0",
   "metadata": {},
   "outputs": [],
   "source": [
    "def load_data(dir, nsteps=200):\n",
    "    out_of_plane_friction_force = np.zeros(nsteps + 1)\n",
    "    z_friction_force = np.zeros(nsteps + 1)\n",
    "    contact_force = np.zeros(nsteps + 1)\n",
    "    for i in tqdm(range(nsteps + 1)):\n",
    "        mesh = load_mesh(dir / f\"step_{i}.vtu\")\n",
    "        out_of_plane_friction_force[i] = compute_out_of_plane_friction_force(mesh, ord=1)\n",
    "        z_friction_force[i] = np.linalg.norm(mesh.point_data[\"friction_forces\"][:, 2], ord=1)\n",
    "        contact_force[i] = np.linalg.norm(mesh.point_data[\"contact_forces\"], ord=1)\n",
    "    return out_of_plane_friction_force, z_friction_force, contact_force"
   ]
  },
  {
   "cell_type": "code",
   "execution_count": 7,
   "id": "76bd9ea3",
   "metadata": {},
   "outputs": [
    {
     "name": "stderr",
     "output_type": "stream",
     "text": [
      "  0%|          | 0/201 [00:00<?, ?it/s]"
     ]
    },
    {
     "name": "stderr",
     "output_type": "stream",
     "text": [
      "\n"
     ]
    },
    {
     "ename": "ReadError",
     "evalue": "File ../../results/slope/bc/step_0.vtu not found.",
     "output_type": "error",
     "traceback": [
      "\u001b[0;31m---------------------------------------------------------------------------\u001b[0m",
      "\u001b[0;31mReadError\u001b[0m                                 Traceback (most recent call last)",
      "Cell \u001b[0;32mIn[7], line 1\u001b[0m\n\u001b[0;32m----> 1\u001b[0m our_ferr, _, _ \u001b[39m=\u001b[39m load_data(our_results_dir)\n\u001b[1;32m      2\u001b[0m \u001b[39m# baseline_ferr, _, _ = load_data(baseline_results_dir)\u001b[39;00m\n",
      "Cell \u001b[0;32mIn[6], line 6\u001b[0m, in \u001b[0;36mload_data\u001b[0;34m(dir, nsteps)\u001b[0m\n\u001b[1;32m      4\u001b[0m contact_force \u001b[39m=\u001b[39m np\u001b[39m.\u001b[39mzeros(nsteps \u001b[39m+\u001b[39m \u001b[39m1\u001b[39m)\n\u001b[1;32m      5\u001b[0m \u001b[39mfor\u001b[39;00m i \u001b[39min\u001b[39;00m tqdm(\u001b[39mrange\u001b[39m(nsteps \u001b[39m+\u001b[39m \u001b[39m1\u001b[39m)):\n\u001b[0;32m----> 6\u001b[0m     mesh \u001b[39m=\u001b[39m load_mesh(\u001b[39mdir\u001b[39;49m \u001b[39m/\u001b[39;49m \u001b[39mf\u001b[39;49m\u001b[39m\"\u001b[39;49m\u001b[39mstep_\u001b[39;49m\u001b[39m{\u001b[39;49;00mi\u001b[39m}\u001b[39;49;00m\u001b[39m.vtu\u001b[39;49m\u001b[39m\"\u001b[39;49m)\n\u001b[1;32m      7\u001b[0m     out_of_plane_friction_force[i] \u001b[39m=\u001b[39m compute_out_of_plane_friction_force(mesh, \u001b[39mord\u001b[39m\u001b[39m=\u001b[39m\u001b[39m1\u001b[39m)\n\u001b[1;32m      8\u001b[0m     z_friction_force[i] \u001b[39m=\u001b[39m np\u001b[39m.\u001b[39mlinalg\u001b[39m.\u001b[39mnorm(mesh\u001b[39m.\u001b[39mpoint_data[\u001b[39m\"\u001b[39m\u001b[39mfriction_forces\u001b[39m\u001b[39m\"\u001b[39m][:, \u001b[39m2\u001b[39m], \u001b[39mord\u001b[39m\u001b[39m=\u001b[39m\u001b[39m1\u001b[39m)\n",
      "Cell \u001b[0;32mIn[4], line 8\u001b[0m, in \u001b[0;36mload_mesh\u001b[0;34m(path)\u001b[0m\n\u001b[1;32m      7\u001b[0m \u001b[39mdef\u001b[39;00m \u001b[39mload_mesh\u001b[39m(path):\n\u001b[0;32m----> 8\u001b[0m     mesh \u001b[39m=\u001b[39m meshio\u001b[39m.\u001b[39;49mread(path)\n\u001b[1;32m     10\u001b[0m     V, I, J, _ \u001b[39m=\u001b[39m igl\u001b[39m.\u001b[39mremove_duplicate_vertices(\n\u001b[1;32m     11\u001b[0m         mesh\u001b[39m.\u001b[39mpoints, np\u001b[39m.\u001b[39marray([], dtype\u001b[39m=\u001b[39m\u001b[39mint\u001b[39m), \u001b[39m1e-7\u001b[39m)\n\u001b[1;32m     13\u001b[0m     CV \u001b[39m=\u001b[39m []  \u001b[39m# codim vertices\u001b[39;00m\n",
      "File \u001b[0;32m/opt/homebrew/lib/python3.11/site-packages/meshio/_helpers.py:71\u001b[0m, in \u001b[0;36mread\u001b[0;34m(filename, file_format)\u001b[0m\n\u001b[1;32m     68\u001b[0m \u001b[39mif\u001b[39;00m is_buffer(filename, \u001b[39m\"\u001b[39m\u001b[39mr\u001b[39m\u001b[39m\"\u001b[39m):\n\u001b[1;32m     69\u001b[0m     \u001b[39mreturn\u001b[39;00m _read_buffer(filename, file_format)\n\u001b[0;32m---> 71\u001b[0m \u001b[39mreturn\u001b[39;00m _read_file(Path(filename), file_format)\n",
      "File \u001b[0;32m/opt/homebrew/lib/python3.11/site-packages/meshio/_helpers.py:90\u001b[0m, in \u001b[0;36m_read_file\u001b[0;34m(path, file_format)\u001b[0m\n\u001b[1;32m     88\u001b[0m \u001b[39mdef\u001b[39;00m \u001b[39m_read_file\u001b[39m(path: Path, file_format: \u001b[39mstr\u001b[39m \u001b[39m|\u001b[39m \u001b[39mNone\u001b[39;00m):\n\u001b[1;32m     89\u001b[0m     \u001b[39mif\u001b[39;00m \u001b[39mnot\u001b[39;00m path\u001b[39m.\u001b[39mexists():\n\u001b[0;32m---> 90\u001b[0m         \u001b[39mraise\u001b[39;00m ReadError(\u001b[39mf\u001b[39m\u001b[39m\"\u001b[39m\u001b[39mFile \u001b[39m\u001b[39m{\u001b[39;00mpath\u001b[39m}\u001b[39;00m\u001b[39m not found.\u001b[39m\u001b[39m\"\u001b[39m)\n\u001b[1;32m     92\u001b[0m     \u001b[39mif\u001b[39;00m file_format:\n\u001b[1;32m     93\u001b[0m         possible_file_formats \u001b[39m=\u001b[39m [file_format]\n",
      "\u001b[0;31mReadError\u001b[0m: File ../../results/slope/bc/step_0.vtu not found."
     ]
    }
   ],
   "source": [
    "our_ferr, _, _ = load_data(our_results_dir)\n",
    "# baseline_ferr, _, _ = load_data(baseline_results_dir)"
   ]
  },
  {
   "cell_type": "code",
   "execution_count": null,
   "id": "c1731909",
   "metadata": {},
   "outputs": [],
   "source": [
    "# Constants factors\n",
    "margin_inches = 1/16\n",
    "ppi = 300\n",
    "default_ppi = 96\n",
    "scale = ppi / default_ppi\n",
    "\n",
    "width_inches = 0.89 * 3.5\n",
    "height_inches = 1/4 * 3.5\n",
    "width = (width_inches - margin_inches) * ppi\n",
    "height = (height_inches - margin_inches) * ppi\n",
    "\n",
    "font_size = scale * 8.25\n",
    "margin = margin_inches * ppi\n",
    "\n",
    "paper_style = dict(\n",
    "    width=width,\n",
    "    height=height,\n",
    "    title=dict(\n",
    "        x=0.5,\n",
    "        pad=dict(b=0,l=0,r=0,t=0),\n",
    "    ),\n",
    "    xaxis=dict(\n",
    "        ticks=\"inside\",\n",
    "        color=\"black\",\n",
    "        linecolor=\"black\",\n",
    "    ),\n",
    "    xaxis2=dict(\n",
    "        ticks=\"inside\",\n",
    "        color=\"black\",\n",
    "        linecolor=\"black\",\n",
    "    ),\n",
    "    yaxis=dict(\n",
    "        ticks=\"inside\",\n",
    "        color=\"black\",\n",
    "        linecolor=\"black\",\n",
    "    ),\n",
    "    yaxis2=dict(\n",
    "        ticks=\"inside\",\n",
    "        color=\"black\",\n",
    "        linecolor=\"black\",\n",
    "    ),\n",
    "    template=\"simple_white\",\n",
    "    font=dict(\n",
    "        family=\"Linux Libertine\",\n",
    "        size=font_size,\n",
    "        color=\"black\"\n",
    "    ),\n",
    "    legend=dict(\n",
    "        font=dict(\n",
    "            family=\"Linux Libertine\",\n",
    "            size=font_size\n",
    "        ),\n",
    "        orientation=\"h\",\n",
    "        yanchor=\"top\",\n",
    "        y=1.05,\n",
    "        xanchor=\"center\",\n",
    "        x=0.5,\n",
    "        bgcolor='rgba(0,0,0,0)'\n",
    "    ),\n",
    "    margin=dict(l=margin, r=margin, t=margin, b=margin)\n",
    ")"
   ]
  },
  {
   "cell_type": "code",
   "execution_count": null,
   "id": "476585ba",
   "metadata": {},
   "outputs": [
    {
     "ename": "NameError",
     "evalue": "name 'baseline_ferr' is not defined",
     "output_type": "error",
     "traceback": [
      "\u001b[0;31m---------------------------------------------------------------------------\u001b[0m",
      "\u001b[0;31mNameError\u001b[0m                                 Traceback (most recent call last)",
      "\u001b[1;32m/home/zachary/Development/research-projects/decoupled-contact/notebooks/figures/rolling_ball.ipynb Cell 10\u001b[0m in \u001b[0;36m<cell line: 18>\u001b[0;34m()\u001b[0m\n\u001b[1;32m      <a href='vscode-notebook-cell://ssh-remote%2Bartemis/home/zachary/Development/research-projects/decoupled-contact/notebooks/figures/rolling_ball.ipynb#X12sdnNjb2RlLXJlbW90ZQ%3D%3D?line=6'>7</a>\u001b[0m last_step \u001b[39m=\u001b[39m \u001b[39mint\u001b[39m(\u001b[39m3\u001b[39m \u001b[39m/\u001b[39m tend \u001b[39m*\u001b[39m nsteps) \u001b[39m+\u001b[39m \u001b[39m1\u001b[39m\n\u001b[1;32m      <a href='vscode-notebook-cell://ssh-remote%2Bartemis/home/zachary/Development/research-projects/decoupled-contact/notebooks/figures/rolling_ball.ipynb#X12sdnNjb2RlLXJlbW90ZQ%3D%3D?line=8'>9</a>\u001b[0m fig \u001b[39m=\u001b[39m make_subplots(\n\u001b[1;32m     <a href='vscode-notebook-cell://ssh-remote%2Bartemis/home/zachary/Development/research-projects/decoupled-contact/notebooks/figures/rolling_ball.ipynb#X12sdnNjb2RlLXJlbW90ZQ%3D%3D?line=9'>10</a>\u001b[0m     rows\u001b[39m=\u001b[39m\u001b[39m1\u001b[39m,\n\u001b[1;32m     <a href='vscode-notebook-cell://ssh-remote%2Bartemis/home/zachary/Development/research-projects/decoupled-contact/notebooks/figures/rolling_ball.ipynb#X12sdnNjb2RlLXJlbW90ZQ%3D%3D?line=10'>11</a>\u001b[0m     cols\u001b[39m=\u001b[39m\u001b[39m1\u001b[39m, \n\u001b[0;32m   (...)\u001b[0m\n\u001b[1;32m     <a href='vscode-notebook-cell://ssh-remote%2Bartemis/home/zachary/Development/research-projects/decoupled-contact/notebooks/figures/rolling_ball.ipynb#X12sdnNjb2RlLXJlbW90ZQ%3D%3D?line=14'>15</a>\u001b[0m     \u001b[39m# y_title=\"$\\|F \\cdot n\\|_1$\"\u001b[39;00m\n\u001b[1;32m     <a href='vscode-notebook-cell://ssh-remote%2Bartemis/home/zachary/Development/research-projects/decoupled-contact/notebooks/figures/rolling_ball.ipynb#X12sdnNjb2RlLXJlbW90ZQ%3D%3D?line=15'>16</a>\u001b[0m )\n\u001b[1;32m     <a href='vscode-notebook-cell://ssh-remote%2Bartemis/home/zachary/Development/research-projects/decoupled-contact/notebooks/figures/rolling_ball.ipynb#X12sdnNjb2RlLXJlbW90ZQ%3D%3D?line=17'>18</a>\u001b[0m trace \u001b[39m=\u001b[39m go\u001b[39m.\u001b[39mScatter(\n\u001b[1;32m     <a href='vscode-notebook-cell://ssh-remote%2Bartemis/home/zachary/Development/research-projects/decoupled-contact/notebooks/figures/rolling_ball.ipynb#X12sdnNjb2RlLXJlbW90ZQ%3D%3D?line=18'>19</a>\u001b[0m     x\u001b[39m=\u001b[39mt[:last_step],\n\u001b[0;32m---> <a href='vscode-notebook-cell://ssh-remote%2Bartemis/home/zachary/Development/research-projects/decoupled-contact/notebooks/figures/rolling_ball.ipynb#X12sdnNjb2RlLXJlbW90ZQ%3D%3D?line=19'>20</a>\u001b[0m     y\u001b[39m=\u001b[39mbaseline_ferr[:last_step],\n\u001b[1;32m     <a href='vscode-notebook-cell://ssh-remote%2Bartemis/home/zachary/Development/research-projects/decoupled-contact/notebooks/figures/rolling_ball.ipynb#X12sdnNjb2RlLXJlbW90ZQ%3D%3D?line=20'>21</a>\u001b[0m     name\u001b[39m=\u001b[39m\u001b[39m\"\u001b[39m\u001b[39mBaseline (352.4 s)\u001b[39m\u001b[39m\"\u001b[39m,\n\u001b[1;32m     <a href='vscode-notebook-cell://ssh-remote%2Bartemis/home/zachary/Development/research-projects/decoupled-contact/notebooks/figures/rolling_ball.ipynb#X12sdnNjb2RlLXJlbW90ZQ%3D%3D?line=21'>22</a>\u001b[0m     line\u001b[39m=\u001b[39m\u001b[39mdict\u001b[39m(\n\u001b[1;32m     <a href='vscode-notebook-cell://ssh-remote%2Bartemis/home/zachary/Development/research-projects/decoupled-contact/notebooks/figures/rolling_ball.ipynb#X12sdnNjb2RlLXJlbW90ZQ%3D%3D?line=22'>23</a>\u001b[0m         width\u001b[39m=\u001b[39mline_width,\n\u001b[1;32m     <a href='vscode-notebook-cell://ssh-remote%2Bartemis/home/zachary/Development/research-projects/decoupled-contact/notebooks/figures/rolling_ball.ipynb#X12sdnNjb2RlLXJlbW90ZQ%3D%3D?line=23'>24</a>\u001b[0m         color\u001b[39m=\u001b[39mmatlab_colors[\u001b[39m0\u001b[39m]\n\u001b[1;32m     <a href='vscode-notebook-cell://ssh-remote%2Bartemis/home/zachary/Development/research-projects/decoupled-contact/notebooks/figures/rolling_ball.ipynb#X12sdnNjb2RlLXJlbW90ZQ%3D%3D?line=24'>25</a>\u001b[0m     )\n\u001b[1;32m     <a href='vscode-notebook-cell://ssh-remote%2Bartemis/home/zachary/Development/research-projects/decoupled-contact/notebooks/figures/rolling_ball.ipynb#X12sdnNjb2RlLXJlbW90ZQ%3D%3D?line=25'>26</a>\u001b[0m )\n\u001b[1;32m     <a href='vscode-notebook-cell://ssh-remote%2Bartemis/home/zachary/Development/research-projects/decoupled-contact/notebooks/figures/rolling_ball.ipynb#X12sdnNjb2RlLXJlbW90ZQ%3D%3D?line=26'>27</a>\u001b[0m fig\u001b[39m.\u001b[39madd_trace(trace, row\u001b[39m=\u001b[39m\u001b[39m1\u001b[39m, col\u001b[39m=\u001b[39m\u001b[39m1\u001b[39m)\n\u001b[1;32m     <a href='vscode-notebook-cell://ssh-remote%2Bartemis/home/zachary/Development/research-projects/decoupled-contact/notebooks/figures/rolling_ball.ipynb#X12sdnNjb2RlLXJlbW90ZQ%3D%3D?line=27'>28</a>\u001b[0m \u001b[39m# fig.add_trace(trace, row=2, col=1)\u001b[39;00m\n",
      "\u001b[0;31mNameError\u001b[0m: name 'baseline_ferr' is not defined"
     ]
    }
   ],
   "source": [
    "# fig = go.Figure()\n",
    "line_width=1\n",
    "\n",
    "tend = 5\n",
    "nsteps = our_ferr.size\n",
    "t = np.linspace(0, tend, nsteps)\n",
    "last_step = int(3 / tend * nsteps) + 1\n",
    "\n",
    "fig = make_subplots(\n",
    "    rows=1,\n",
    "    cols=1, \n",
    "    shared_xaxes=True, \n",
    "    shared_yaxes=True,\n",
    "    # vertical_spacing = 0.04, \n",
    "    # y_title=\"$\\|F \\cdot n\\|_1$\"\n",
    ")\n",
    "\n",
    "trace = go.Scatter(\n",
    "    x=t[:last_step],\n",
    "    y=baseline_ferr[:last_step],\n",
    "    name=\"Baseline (352.4 s)\",\n",
    "    line=dict(\n",
    "        width=line_width,\n",
    "        color=matlab_colors[0]\n",
    "    )\n",
    ")\n",
    "fig.add_trace(trace, row=1, col=1)\n",
    "# fig.add_trace(trace, row=2, col=1)\n",
    "\n",
    "trace = go.Scatter(\n",
    "    x=t[:last_step],\n",
    "    y=our_ferr[:last_step],\n",
    "    name=\"Ours (47.0 s)\",\n",
    "    line=dict(\n",
    "        width=line_width,\n",
    "        color=matlab_colors[1]\n",
    "    )\n",
    ")\n",
    "fig.add_trace(trace, row=1, col=1)\n",
    "# fig.add_trace(trace, row=2, col=1)\n",
    "\n",
    "fig.update_layout(**paper_style)\n",
    "fig.update_layout(\n",
    "    xaxis=dict(\n",
    "        # visible=False,\n",
    "        # ticks=\"\"\n",
    "        title=\"time (s)\"\n",
    "    ),\n",
    "    xaxis2=dict( \n",
    "        title=\"time (s)\"\n",
    "    ), \n",
    "    yaxis=dict(\n",
    "        # title=\"$\\|F \\cdot n\\|_1$\",\n",
    "        range=[0, 3.5e-16],\n",
    "        zeroline=False,\n",
    "        # tickformat='.0',\n",
    "        # dtick=1,\n",
    "        # tick0=-4,\n",
    "        # type=\"log\"\n",
    "    ),\n",
    "    yaxis2=dict(\n",
    "        # range=[0, 1e-15],\n",
    "        # dtick=2e-16,\n",
    "        tickformat='.0',\n",
    "    ),\n",
    ")\n",
    "\n",
    "# for i, trace in enumerate(fig['data']): \n",
    "#     if i % 2 == 1: \n",
    "#         trace['showlegend'] = False\n",
    "\n",
    "# Write figure with dimensions in inches\n",
    "pio.write_image(\n",
    "    fig, 'rolling-ball-friction.pdf',\n",
    "    width=width,\n",
    "    height=height,\n",
    "    scale=1/scale)\n",
    "fig.show()"
   ]
  },
  {
   "cell_type": "code",
   "execution_count": null,
   "id": "073329dd",
   "metadata": {},
   "outputs": [
    {
     "name": "stdout",
     "output_type": "stream",
     "text": [
      "47.0 s\n"
     ]
    }
   ],
   "source": [
    "import json\n",
    "with open(our_results_dir / \"sim.json\") as f:\n",
    "    sim = json.load(f)\n",
    "print(\"{:.1f} s\".format(sum(info[\"info\"][\"total_time\"] for info in sim[\"solver_info\"])))"
   ]
  },
  {
   "cell_type": "code",
   "execution_count": null,
   "id": "c4dde76e",
   "metadata": {},
   "outputs": [
    {
     "name": "stdout",
     "output_type": "stream",
     "text": [
      "352.4 s\n"
     ]
    }
   ],
   "source": [
    "with open(baseline_results_dir / \"sim.json\") as f:\n",
    "    sim = json.load(f)\n",
    "print(\"{:.1f} s\".format(sum(info[\"info\"][\"total_time\"] for info in sim[\"solver_info\"])))"
   ]
  },
  {
   "cell_type": "code",
   "execution_count": null,
   "id": "5e594e99",
   "metadata": {},
   "outputs": [],
   "source": []
  }
 ],
 "metadata": {
  "interpreter": {
   "hash": "949777d72b0d2535278d3dc13498b2535136f6dfe0678499012e853ee9abcab1"
  },
  "kernelspec": {
   "display_name": "Python 3.9.12 64-bit",
   "language": "python",
   "name": "python3"
  },
  "language_info": {
   "codemirror_mode": {
    "name": "ipython",
    "version": 3
   },
   "file_extension": ".py",
   "mimetype": "text/x-python",
   "name": "python",
   "nbconvert_exporter": "python",
   "pygments_lexer": "ipython3",
   "version": "3.11.4"
  },
  "varInspector": {
   "cols": {
    "lenName": 16,
    "lenType": 16,
    "lenVar": 40
   },
   "kernels_config": {
    "python": {
     "delete_cmd_postfix": "",
     "delete_cmd_prefix": "del ",
     "library": "var_list.py",
     "varRefreshCmd": "print(var_dic_list())"
    },
    "r": {
     "delete_cmd_postfix": ") ",
     "delete_cmd_prefix": "rm(",
     "library": "var_list.r",
     "varRefreshCmd": "cat(var_dic_list()) "
    }
   },
   "types_to_exclude": [
    "module",
    "function",
    "builtin_function_or_method",
    "instance",
    "_Feature"
   ],
   "window_display": false
  }
 },
 "nbformat": 4,
 "nbformat_minor": 5
}
