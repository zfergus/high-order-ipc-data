{
 "cells": [
  {
   "cell_type": "code",
   "execution_count": 1,
   "metadata": {},
   "outputs": [],
   "source": [
    "import numpy as np\n",
    "from scipy.spatial.transform import Rotation\n",
    "import meshplot as mp\n",
    "import triangle as tr\n",
    "import meshio\n",
    "import itertools\n",
    "import igl\n",
    "import ipctk"
   ]
  },
  {
   "cell_type": "code",
   "execution_count": 2,
   "metadata": {},
   "outputs": [],
   "source": [
    "# cmesh = ipctk.CollisionMesh(V_irregular, ipctk.edges(F_irregular), F_irregular)\n",
    "# ipctk.has_intersections(cmesh, V_irregular)"
   ]
  },
  {
   "cell_type": "code",
   "execution_count": 3,
   "metadata": {},
   "outputs": [],
   "source": [
    "shading = {\n",
    "    \"flat\": True, # Flat or smooth shading of triangles\n",
    "    \"wireframe\": True, \"wire_width\": 0.1, \"wire_color\": \"black\", # Wireframe rendering\n",
    "    \"width\": 600, \"height\": 600, # Size of the viewer canvas\n",
    "    \"antialias\": True, # Antialising, might not work on all GPUs\n",
    "    \"scale\": 2.0, # Scaling of the model\n",
    "    \"side\": \"DoubleSide\", # FrontSide, BackSide or DoubleSide rendering of the triangles\n",
    "    \"colormap\": \"viridis\", \"normalize\": [None, None], # Colormap and normalization for colors\n",
    "    \"background\": \"#ffffff\", # Background color of the canvas\n",
    "    \"line_width\": 2.0, \"line_color\": \"black\", # Line properties of overlay lines\n",
    "    \"bbox\": False, # Enable plotting of bounding box\n",
    "    \"point_color\": \"red\", \"point_size\": 0.05 # Point properties of overlay points\n",
    "}"
   ]
  },
  {
   "cell_type": "code",
   "execution_count": 4,
   "metadata": {},
   "outputs": [],
   "source": [
    "example_mesh_file = \"../meshes/octocat/octocat-coarse.ply\"\n",
    "# example_mesh_file = \"../meshes/cube/cube.ply\""
   ]
  },
  {
   "cell_type": "code",
   "execution_count": 5,
   "metadata": {},
   "outputs": [],
   "source": [
    "mesh = meshio.read(example_mesh_file)\n",
    "# plt = mp.plot(mesh.points, mesh.cells[0].data, shading=shading)"
   ]
  },
  {
   "cell_type": "code",
   "execution_count": 6,
   "metadata": {},
   "outputs": [],
   "source": [
    "def stitch_mesh(V, F):\n",
    "    out_V, indices, inverse, out_F = igl.remove_duplicate_vertices(V, F, epsilon=1e-5)\n",
    "    # indices, arg_indices = np.sort(indices), np.argsort(indices)\n",
    "    # for i, inv in enumerate(inverse):\n",
    "    #     new_inv = np.where(inv == arg_indices)[0]\n",
    "    #     assert(new_inv.size == 1)\n",
    "    #     inverse[i] = new_inv[0]\n",
    "    # return V[indices], np.hstack([inverse[F[:, j]][:, None] for j in range(F.shape[1])])\n",
    "    return out_V, out_F\n",
    "\n",
    "def edge_lengths(V, F):\n",
    "    return np.linalg.norm(V[F[:, [1, 2, 0]]] - V[F[:, [0, 1, 2]]], axis=2)\n",
    "\n",
    "def min_edge_length(V, F):\n",
    "    return edge_lengths(V, F).min()\n",
    "\n",
    "def max_edge_length(V, F):\n",
    "    return edge_lengths(V, F).max()\n",
    "\n",
    "def average_edge_length(V, F):\n",
    "    return edge_lengths(V, F).mean()\n",
    "\n",
    "def print_edge_length_stats(V, F):\n",
    "    print(\"Min edge length: \", min_edge_length(V, F))\n",
    "    print(\"Max edge length: \", max_edge_length(V, F))\n",
    "    print(\"Average edge length: \", average_edge_length(V, F))"
   ]
  },
  {
   "cell_type": "code",
   "execution_count": 7,
   "metadata": {},
   "outputs": [],
   "source": [
    "def regular_grid_triangle_barycentric_coordinates(n):\n",
    "    delta = 1 / (n - 1)\n",
    "    # map from (i, j) coordinates to vertex id\n",
    "    ij2v = np.full((n, n), -1)\n",
    "    V = []\n",
    "\n",
    "    for i in range(n):\n",
    "        for j in range (n - i):\n",
    "            ij2v[i, j] = len(V)\n",
    "            V.append([i * delta, j * delta])\n",
    "\n",
    "    # Create triangulated faces\n",
    "    F = []\n",
    "    for i, j in itertools.product(range(n - 1), range(n - 1)):\n",
    "        for f in [ij2v[[i, i + 1, i], [j, j, j + 1]],\n",
    "                  ij2v[[i + 1, i + 1, i], [j, j + 1, j + 1]]]:\n",
    "            if (f >= 0).all():\n",
    "                F.append(f)\n",
    "\n",
    "    return np.array(V), np.array(F)\n",
    "\n",
    "def sample_triangle(a, b, c, coords):\n",
    "    # c\n",
    "    # | \\\n",
    "    # a--b\n",
    "    V = np.empty((coords.shape[0], a.size), dtype=\"float\")\n",
    "    for i, (alpha, beta) in enumerate(coords):\n",
    "        V[i] = alpha * (b - a) + beta * (c - a) + a\n",
    "    return V\n",
    "\n",
    "def regular_grid_tessilation(V, F, out_max_edge_length):\n",
    "    out_V = []\n",
    "    out_F = []\n",
    "\n",
    "    # Add one because n is the number of edge vertices not edges segments\n",
    "    n = max(1, int(np.ceil(max_edge_length(V, F) / out_max_edge_length))) + 1\n",
    "\n",
    "    coords, local_F = regular_grid_triangle_barycentric_coordinates(n)\n",
    "\n",
    "    for triangle in F:\n",
    "        out_F.extend(local_F + len(out_V))\n",
    "        out_V.extend(sample_triangle(*V[triangle], coords))\n",
    "    \n",
    "    return stitch_mesh(np.array(out_V), np.array(out_F))"
   ]
  },
  {
   "cell_type": "code",
   "execution_count": 8,
   "metadata": {},
   "outputs": [],
   "source": [
    "V_grid, F_grid = regular_grid_tessilation(\n",
    "    mesh.points, \n",
    "    mesh.cells[0].data, \n",
    "    0.1 * max_edge_length(mesh.points, mesh.cells[0].data))"
   ]
  },
  {
   "cell_type": "code",
   "execution_count": 9,
   "metadata": {},
   "outputs": [
    {
     "name": "stdout",
     "output_type": "stream",
     "text": [
      "Min edge length:  0.5331873026281754\n",
      "Max edge length:  11.436348954385352\n",
      "Average edge length:  2.847147187078301\n",
      "\n",
      "Min edge length:  0.05331873026281627\n",
      "Max edge length:  1.1436348954385367\n",
      "Average edge length:  0.2847147187078301\n"
     ]
    }
   ],
   "source": [
    "print_edge_length_stats(mesh.points, mesh.cells[0].data)\n",
    "print()\n",
    "print_edge_length_stats(V_grid, F_grid)"
   ]
  },
  {
   "cell_type": "code",
   "execution_count": 19,
   "metadata": {},
   "outputs": [
    {
     "data": {
      "application/vnd.jupyter.widget-view+json": {
       "model_id": "3c6cc17b2d984b259485dba0771a30c9",
       "version_major": 2,
       "version_minor": 0
      },
      "text/plain": [
       "Renderer(camera=PerspectiveCamera(children=(DirectionalLight(color='white', intensity=0.6, position=(-0.030651…"
      ]
     },
     "metadata": {},
     "output_type": "display_data"
    },
    {
     "data": {
      "text/plain": [
       "<meshplot.Viewer.Viewer at 0x12f87d290>"
      ]
     },
     "execution_count": 19,
     "metadata": {},
     "output_type": "execute_result"
    }
   ],
   "source": [
    "mp.plot(V_grid, F_grid, shading=shading)"
   ]
  },
  {
   "cell_type": "code",
   "execution_count": 11,
   "metadata": {},
   "outputs": [
    {
     "data": {
      "text/html": [
       "<pre style=\"white-space:pre;overflow-x:auto;line-height:normal;font-family:Menlo,'DejaVu Sans Mono',consolas,'Courier New',monospace\"><span style=\"color: #808000; text-decoration-color: #808000; font-weight: bold\">Warning:</span><span style=\"color: #808000; text-decoration-color: #808000\"> PLY doesn't support </span><span style=\"color: #808000; text-decoration-color: #808000; font-weight: bold\">64</span><span style=\"color: #808000; text-decoration-color: #808000\">-bit integers. Casting down to </span><span style=\"color: #808000; text-decoration-color: #808000; font-weight: bold\">32</span><span style=\"color: #808000; text-decoration-color: #808000\">-bit.</span>\n",
       "</pre>\n"
      ],
      "text/plain": [
       "\u001b[1;33mWarning:\u001b[0m\u001b[33m PLY doesn't support \u001b[0m\u001b[1;33m64\u001b[0m\u001b[33m-bit integers. Casting down to \u001b[0m\u001b[1;33m32\u001b[0m\u001b[33m-bit.\u001b[0m\n"
      ]
     },
     "metadata": {},
     "output_type": "display_data"
    }
   ],
   "source": [
    "regular_mesh = meshio.Mesh(points=V_grid, cells=[(\"triangle\", F_grid)])\n",
    "regular_mesh.write(\"/Users/zachary/Desktop/regular_tessilation.ply\")"
   ]
  },
  {
   "cell_type": "code",
   "execution_count": 12,
   "metadata": {},
   "outputs": [],
   "source": [
    "def refine_edge(a, b, max_edge_length):\n",
    "    n = int(np.ceil(np.linalg.norm(b - a) / max_edge_length))\n",
    "    return np.array([\n",
    "        (b - a) * t + a\n",
    "        for t in np.linspace(0.0, 1.0, n+1)\n",
    "    ])\n",
    "\n",
    "\n",
    "def refine_triangle_edges(a, b, c, max_edge_len):\n",
    "    out_V = np.vstack([\n",
    "        refine_edge(a, b, max_edge_len)[:-1],\n",
    "        refine_edge(b, c, max_edge_len)[:-1],\n",
    "        refine_edge(c, a, max_edge_len)[:-1],\n",
    "    ])\n",
    "    out_E = np.vstack([\n",
    "        np.hstack([\n",
    "            np.arange(0, out_V.shape[0] - 1, dtype=int).reshape(-1, 1),\n",
    "            np.arange(1, out_V.shape[0],     dtype=int).reshape(-1, 1),\n",
    "        ]),\n",
    "        [out_V.shape[0] - 1, 0]\n",
    "    ])\n",
    "    return out_V, out_E\n",
    "\n",
    "\n",
    "def triangle_area(a, b, c):\n",
    "    return np.linalg.norm(np.cross(b - a, c - a)) / 2\n",
    "\n",
    "def irregular_triangle(a, b, c, max_edge_length):\n",
    "    p = 3 * max_edge_length / 2\n",
    "    max_area = np.sqrt(p * (p - max_edge_length)**3)\n",
    "\n",
    "    V, E = refine_triangle_edges(a, b, c, max_edge_length)\n",
    "\n",
    "    # Compute a rotation that aligns the z axis with the triangle normal\n",
    "    R = Rotation.align_vectors(\n",
    "        np.array([[0, 0, 1]]),\n",
    "        np.cross(b - a, c - a).reshape(1, 3))[0].as_matrix()\n",
    "\n",
    "    V_2D = V @ R.T # Align the triangle with the z axis\n",
    "    z = V_2D[:, 2].copy()\n",
    "    assert((abs(z - z[0]) < 1e-12).all())\n",
    "    z = z[0] # Save the z-offset\n",
    "    V_2D = V_2D[:, :2] # Drop the z coordinate\n",
    "    \n",
    "    t = tr.triangulate({\"vertices\": V_2D, \"segments\": E}, f'Ya{max_area:f}q')\n",
    "\n",
    "    V = np.hstack([\n",
    "        t[\"vertices\"], \n",
    "        np.full((t[\"vertices\"].shape[0], 1), z) # Restore the z-offset\n",
    "    ]) @ R # Rotate back to the original orientation\n",
    "    F = t[\"triangles\"]\n",
    "\n",
    "    # TODO: IDK why there are zero-area faces\n",
    "    F = F[[triangle_area(*V[f]) > 1e-12 for f in F]]\n",
    "\n",
    "    return V, F\n",
    "\n",
    "\n",
    "def irregular_tessilation(V, F, max_edge_length):\n",
    "    out_V = []\n",
    "    out_F = []\n",
    "\n",
    "    for triangle in F:\n",
    "        local_V, local_F = irregular_triangle(*V[triangle], max_edge_length)\n",
    "        out_F.extend(local_F + len(out_V))\n",
    "        out_V.extend(local_V)\n",
    "    \n",
    "    return stitch_mesh(np.array(out_V), np.array(out_F))"
   ]
  },
  {
   "cell_type": "code",
   "execution_count": 13,
   "metadata": {},
   "outputs": [
    {
     "name": "stderr",
     "output_type": "stream",
     "text": [
      "/var/folders/y1/l7pg454j0jv6b028zqg1frsc0000gn/T/ipykernel_9312/1067447991.py:35: UserWarning: Optimal rotation is not uniquely or poorly defined for the given sets of vectors.\n",
      "  R = Rotation.align_vectors(\n"
     ]
    }
   ],
   "source": [
    "V_irregular, F_irregular = irregular_tessilation(\n",
    "    mesh.points,\n",
    "    mesh.cells[0].data,\n",
    "    0.125 * max_edge_length(mesh.points, mesh.cells[0].data))"
   ]
  },
  {
   "cell_type": "code",
   "execution_count": 14,
   "metadata": {},
   "outputs": [
    {
     "name": "stdout",
     "output_type": "stream",
     "text": [
      "Min edge length:  0.5331873026281754\n",
      "Max edge length:  11.436348954385352\n",
      "Average edge length:  2.847147187078301\n",
      "\n",
      "Min edge length:  0.05331873026281627\n",
      "Max edge length:  1.1436348954385367\n",
      "Average edge length:  0.2847147187078301\n",
      "\n",
      "Min edge length:  0.22763592055667953\n",
      "Max edge length:  1.9559550525231664\n",
      "Average edge length:  1.1113467343545431\n"
     ]
    }
   ],
   "source": [
    "print_edge_length_stats(mesh.points, mesh.cells[0].data)\n",
    "print()\n",
    "print_edge_length_stats(V_grid, F_grid)\n",
    "print()\n",
    "print_edge_length_stats(V_irregular, F_irregular)"
   ]
  },
  {
   "cell_type": "code",
   "execution_count": 15,
   "metadata": {},
   "outputs": [
    {
     "data": {
      "application/vnd.jupyter.widget-view+json": {
       "model_id": "21cdc819baee43389521fe0e7802de87",
       "version_major": 2,
       "version_minor": 0
      },
      "text/plain": [
       "Renderer(camera=PerspectiveCamera(children=(DirectionalLight(color='white', intensity=0.6, position=(-0.030651…"
      ]
     },
     "metadata": {},
     "output_type": "display_data"
    },
    {
     "data": {
      "text/plain": [
       "<meshplot.Viewer.Viewer at 0x107326c10>"
      ]
     },
     "execution_count": 15,
     "metadata": {},
     "output_type": "execute_result"
    }
   ],
   "source": [
    "mp.plot(V_irregular, F_irregular, shading=shading)"
   ]
  },
  {
   "cell_type": "code",
   "execution_count": 16,
   "metadata": {},
   "outputs": [],
   "source": [
    "irregular_mesh = meshio.Mesh(points=V_irregular, cells=[(\"triangle\", F_irregular)])\n",
    "irregular_mesh.write(\"/Users/zachary/Desktop/irregular_tessilation.ply\")"
   ]
  },
  {
   "cell_type": "code",
   "execution_count": 17,
   "metadata": {},
   "outputs": [],
   "source": [
    "import trimesh"
   ]
  },
  {
   "cell_type": "code",
   "execution_count": 18,
   "metadata": {},
   "outputs": [
    {
     "name": "stdout",
     "output_type": "stream",
     "text": [
      "0\n"
     ]
    }
   ],
   "source": [
    "tmesh = trimesh.Trimesh(V_irregular, F_irregular)\n",
    "print(len(trimesh.repair.broken_faces(tmesh)))\n",
    "# trimesh.repair.fix_winding(mesh)\n",
    "# print(len(trimesh.repair.broken_faces(mesh)))"
   ]
  },
  {
   "cell_type": "code",
   "execution_count": null,
   "metadata": {},
   "outputs": [],
   "source": []
  }
 ],
 "metadata": {
  "kernelspec": {
   "display_name": "Python 3",
   "language": "python",
   "name": "python3"
  },
  "language_info": {
   "codemirror_mode": {
    "name": "ipython",
    "version": 3
   },
   "file_extension": ".py",
   "mimetype": "text/x-python",
   "name": "python",
   "nbconvert_exporter": "python",
   "pygments_lexer": "ipython3",
   "version": "3.11.4"
  },
  "orig_nbformat": 4,
  "vscode": {
   "interpreter": {
    "hash": "949777d72b0d2535278d3dc13498b2535136f6dfe0678499012e853ee9abcab1"
   }
  }
 },
 "nbformat": 4,
 "nbformat_minor": 2
}
