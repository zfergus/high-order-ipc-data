{
 "cells": [
  {
   "cell_type": "code",
   "execution_count": 2,
   "metadata": {},
   "outputs": [],
   "source": [
    "import meshio as mio\n",
    "import meshplot as mp\n",
    "import numpy as np\n",
    "from utils import *\n",
    "import torch\n",
    "from tqdm import tqdm\n",
    "import igl"
   ]
  },
  {
   "cell_type": "code",
   "execution_count": 3,
   "metadata": {},
   "outputs": [],
   "source": [
    "# m = mio.read(\"../meshes/sphere/sphere3.msh\")\n",
    "m = mio.read(\"../meshes/armadillo/armadillo_P4_org.msh\")\n",
    "# m = mio.read(\"../meshes/microstructure/microstructure_P4.msh\")\n",
    "\n",
    "order = 3 if m.cells[-1].type == 'tetra20' else 4\n",
    "T = m.cells[-1].data.astype(int)\n",
    "V = m.points"
   ]
  },
  {
   "cell_type": "code",
   "execution_count": 15,
   "metadata": {},
   "outputs": [
    {
     "name": "stderr",
     "output_type": "stream",
     "text": [
      "  3%|▎         | 29/1000 [00:01<00:34, 28.24it/s]\n"
     ]
    }
   ],
   "source": [
    "ti = 80\n",
    "# \n",
    "rV, rT = sample_tet(8)\n",
    "\n",
    "TT = T[ti, :]\n",
    "pts = V[TT]*100\n",
    "\n",
    "target = np.array([80., 80., 70.])\n",
    "\n",
    "opt, vv = inver_gmapping(order, rV[0, :], pts, target)\n",
    "\n"
   ]
  },
  {
   "cell_type": "code",
   "execution_count": 13,
   "metadata": {},
   "outputs": [
    {
     "name": "stdout",
     "output_type": "stream",
     "text": [
      "<class 'numpy.ndarray'> <class 'numpy.ndarray'>\n",
      "[80.00000004 79.99999948 69.99999971]\n",
      "3.6040468845961896e-13\n"
     ]
    }
   ],
   "source": [
    "print(type(opt), type(pts))\n",
    "\n",
    "print(gmapping(order, opt, pts))\n",
    "print(gmapping_energy(order, opt, pts, target))"
   ]
  },
  {
   "cell_type": "code",
   "execution_count": 14,
   "metadata": {},
   "outputs": [
    {
     "name": "stderr",
     "output_type": "stream",
     "text": [
      "100%|██████████| 4680/4680 [00:02<00:00, 1710.67it/s]\n"
     ]
    },
    {
     "data": {
      "application/vnd.jupyter.widget-view+json": {
       "model_id": "3e9da83d30e3482095c975f55090b312",
       "version_major": 2,
       "version_minor": 0
      },
      "text/plain": [
       "Renderer(camera=PerspectiveCamera(children=(DirectionalLight(color='white', intensity=0.6, position=(0.4207500…"
      ]
     },
     "metadata": {},
     "output_type": "display_data"
    }
   ],
   "source": [
    "\n",
    "\n",
    "# remapping = [0, 1, 2, 3,   4, 5,  6, 7,   8, 9,    11, 10,  15, 14,  13, 12,    16, 17, 19, 18]\n",
    "rV, rT = sample_tet(6)\n",
    "\n",
    "ppp = []\n",
    "ttt = []\n",
    "tot = 0\n",
    "\n",
    "\n",
    "for ti in tqdm(range(T.shape[0])):\n",
    "    TT = T[ti, :]\n",
    "    pts = V[TT]\n",
    "\n",
    "    img_p = gmapping(order, rV, pts)\n",
    "\n",
    "    ppp.extend(img_p)\n",
    "    ttt.extend(rT+tot)\n",
    "    tot+=img_p.shape[0]\n",
    "\n",
    "\n",
    "ppp = np.array(ppp)\n",
    "ttt = np.array(ttt, dtype=int)\n",
    "\n",
    "p_uni, _, inverse = np.unique(ppp, return_index=True, return_inverse=True, axis=0)\n",
    "t_uni = np.array([inverse[ttt[:, 0]], inverse[ttt[:, 1]], inverse[ttt[:, 2]], inverse[ttt[:, 3]]]).transpose()\n",
    "\n",
    "p = mp.plot(p_uni, t_uni, shading={\"wireframe\": True})\n",
    "p.add_points(V, shading={\"point_size\": 0.05})\n",
    "\n",
    "F = igl.boundary_facets(t_uni)"
   ]
  },
  {
   "cell_type": "code",
   "execution_count": 17,
   "metadata": {},
   "outputs": [
    {
     "data": {
      "text/plain": [
       "0.0"
      ]
     },
     "execution_count": 17,
     "metadata": {},
     "output_type": "execute_result"
    }
   ],
   "source": [
    "rV.min()"
   ]
  },
  {
   "cell_type": "code",
   "execution_count": 53,
   "metadata": {},
   "outputs": [],
   "source": [
    "from scipy.spatial.transform import Rotation"
   ]
  },
  {
   "cell_type": "code",
   "execution_count": 80,
   "metadata": {},
   "outputs": [
    {
     "name": "stderr",
     "output_type": "stream",
     "text": [
      "/home/zachary/.local/lib/python3.10/site-packages/jupyter_client/session.py:716: UserWarning: Message serialization failed with:\n",
      "Out of range float values are not JSON compliant\n",
      "Supporting this message is deprecated in jupyter-client 7, please make sure your message is JSON-compliant\n",
      "  content = self.pack(content)\n"
     ]
    },
    {
     "data": {
      "application/vnd.jupyter.widget-view+json": {
       "model_id": "9605c5b1ed0f477aac95475fe87db585",
       "version_major": 2,
       "version_minor": 0
      },
      "text/plain": [
       "Renderer(camera=PerspectiveCamera(children=(DirectionalLight(color='white', intensity=0.6, position=(0.0, 1.83…"
      ]
     },
     "metadata": {},
     "output_type": "display_data"
    },
    {
     "data": {
      "text/plain": [
       "1"
      ]
     },
     "execution_count": 80,
     "metadata": {},
     "output_type": "execute_result"
    }
   ],
   "source": [
    "P1 = mio.read(\"../meshes/armadillo/verschoor/armadillo_fine.ply\")\n",
    "P4 = mio.read(\"../meshes/armadillo/armadillo_P4_org-collision-mesh.obj\")\n",
    "\n",
    "V = P4.points.copy()\n",
    "\n",
    "T0 = 38/30 * np.eye(3) @ Rotation.from_euler('y', -90, degrees=True).as_matrix().T\n",
    "t0 = np.array([[0.485, 1.2, -0.535]])\n",
    "\n",
    "V = V @ T0\n",
    "V += t0\n",
    "\n",
    "plt = mp.plot(P1.points, shading={\"point_color\": \"blue\", \"point_size\": 0.05})\n",
    "plt.add_points(V, shading={\"point_color\": \"red\", \"point_size\": 0.05})"
   ]
  },
  {
   "cell_type": "code",
   "execution_count": 81,
   "metadata": {},
   "outputs": [
    {
     "name": "stdout",
     "output_type": "stream",
     "text": [
      "[ 0.00111032  0.03301042 -0.03173772] [-0.00117362 -0.00054091  0.00351954]\n"
     ]
    },
    {
     "data": {
      "application/vnd.jupyter.widget-view+json": {
       "model_id": "12394ce719424efc9c8a45e2b719afb4",
       "version_major": 2,
       "version_minor": 0
      },
      "text/plain": [
       "Renderer(camera=PerspectiveCamera(children=(DirectionalLight(color='white', intensity=0.6, position=(0.0, 1.83…"
      ]
     },
     "metadata": {},
     "output_type": "display_data"
    },
    {
     "data": {
      "text/plain": [
       "1"
      ]
     },
     "execution_count": 81,
     "metadata": {},
     "output_type": "execute_result"
    }
   ],
   "source": [
    "import igl\n",
    "\n",
    "# Use the previous cell as a good initialization\n",
    "V_icp = V.copy()\n",
    "\n",
    "R, t = igl.iterative_closest_point(\n",
    "    V_icp, P4.cells[0].data.astype(int), \n",
    "    P1.points.astype(float), P1.cells[0].data.astype(int), \n",
    "    num_samples=1000, max_iters=1000)\n",
    "\n",
    "print(Rotation.from_matrix(R).as_euler(\"xyz\", degrees=True), t)\n",
    "\n",
    "V_icp = V_icp @ R + t\n",
    "\n",
    "plt = mp.plot(P1.points, shading={\"point_color\": \"blue\", \"point_size\": 0.05})\n",
    "plt.add_points(V, shading={\"point_color\": \"red\", \"point_size\": 0.05})"
   ]
  },
  {
   "cell_type": "code",
   "execution_count": 82,
   "metadata": {},
   "outputs": [
    {
     "data": {
      "application/vnd.jupyter.widget-view+json": {
       "model_id": "6238eee844eb4e27a12e6500c0874f87",
       "version_major": 2,
       "version_minor": 0
      },
      "text/plain": [
       "Renderer(camera=PerspectiveCamera(children=(DirectionalLight(color='white', intensity=0.6, position=(0.0, 1.83…"
      ]
     },
     "metadata": {},
     "output_type": "display_data"
    },
    {
     "data": {
      "text/plain": [
       "2"
      ]
     },
     "execution_count": 82,
     "metadata": {},
     "output_type": "execute_result"
    }
   ],
   "source": [
    "mesh = mio.read(\"../meshes/armadillo/armadillo_P4_org.msh\")\n",
    "mesh.points = (mesh.points @ T0 + t0) @ R + t\n",
    "\n",
    "plt = mp.plot(P1.points, shading={\"point_color\": \"blue\", \"point_size\": 0.05})\n",
    "plt.add_points(V, shading={\"point_color\": \"red\", \"point_size\": 0.05})\n",
    "plt.add_points(mesh.points, shading={\"point_color\": \"green\", \"point_size\": 0.05})"
   ]
  },
  {
   "cell_type": "code",
   "execution_count": 83,
   "metadata": {},
   "outputs": [],
   "source": [
    "mesh.write(\"../meshes/armadillo/armadillo_P4.msh\", file_format=\"gmsh\")"
   ]
  },
  {
   "cell_type": "code",
   "execution_count": null,
   "metadata": {},
   "outputs": [],
   "source": []
  }
 ],
 "metadata": {
  "interpreter": {
   "hash": "e7370f93d1d0cde622a1f8e1c04877d8463912d04d973331ad4851f04de6915a"
  },
  "kernelspec": {
   "display_name": "Python 3.10.2 64-bit",
   "language": "python",
   "name": "python3"
  },
  "language_info": {
   "codemirror_mode": {
    "name": "ipython",
    "version": 3
   },
   "file_extension": ".py",
   "mimetype": "text/x-python",
   "name": "python",
   "nbconvert_exporter": "python",
   "pygments_lexer": "ipython3",
   "version": "3.10.2"
  }
 },
 "nbformat": 4,
 "nbformat_minor": 4
}
