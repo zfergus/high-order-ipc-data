{
 "cells": [
  {
   "cell_type": "code",
   "execution_count": 7,
   "metadata": {},
   "outputs": [],
   "source": [
    "import meshio as mio\n",
    "import meshplot as mp\n",
    "import numpy as np\n",
    "from utils import *\n",
    "import torch\n",
    "from tqdm import tqdm\n",
    "import igl"
   ]
  },
  {
   "cell_type": "code",
   "execution_count": 8,
   "metadata": {},
   "outputs": [],
   "source": [
    "# m = mio.read(\"../meshes/sphere/sphere3.msh\")\n",
    "m = mio.read(\"../meshes/armadillo/armadillop4.msh\")\n",
    "# m = mio.read(\"../meshes/microstructure/microstructure_P4.msh\")\n",
    "\n",
    "order = 3 if m.cells[-1].type == 'tetra20' else 4\n",
    "T = m.cells[-1].data.astype(int)\n",
    "V = m.points"
   ]
  },
  {
   "cell_type": "code",
   "execution_count": 9,
   "metadata": {},
   "outputs": [
    {
     "name": "stderr",
     "output_type": "stream",
     "text": [
      "100%|██████████| 1000/1000 [00:06<00:00, 165.95it/s]\n"
     ]
    }
   ],
   "source": [
    "ti = 80\n",
    "# \n",
    "rV, rT = sample_tet(8)\n",
    "\n",
    "TT = T[ti, :]\n",
    "pts = V[TT]*100\n",
    "\n",
    "target = np.array([80., 80., 70.])\n",
    "\n",
    "opt, vv = inver_gmapping(order, rV[0, :], pts, target)"
   ]
  },
  {
   "cell_type": "code",
   "execution_count": 10,
   "metadata": {},
   "outputs": [
    {
     "name": "stdout",
     "output_type": "stream",
     "text": [
      "<class 'numpy.ndarray'> <class 'numpy.ndarray'>\n",
      "[80.25632674 80.45061024 68.7176885 ]\n",
      "1.9130757706289383\n"
     ]
    }
   ],
   "source": [
    "print(type(opt), type(pts))\n",
    "\n",
    "print(gmapping(order, opt, pts))\n",
    "print(gmapping_energy(order, opt, pts, target))"
   ]
  },
  {
   "cell_type": "code",
   "execution_count": 11,
   "metadata": {},
   "outputs": [
    {
     "name": "stderr",
     "output_type": "stream",
     "text": [
      "100%|██████████| 6414/6414 [00:03<00:00, 1740.85it/s]\n",
      "/home/zachary/.local/lib/python3.10/site-packages/jupyter_client/session.py:716: UserWarning: Message serialization failed with:\n",
      "Out of range float values are not JSON compliant\n",
      "Supporting this message is deprecated in jupyter-client 7, please make sure your message is JSON-compliant\n",
      "  content = self.pack(content)\n"
     ]
    },
    {
     "data": {
      "application/vnd.jupyter.widget-view+json": {
       "model_id": "965a7039de8145cf9da695996f1e4b6c",
       "version_major": 2,
       "version_minor": 0
      },
      "text/plain": [
       "Renderer(camera=PerspectiveCamera(children=(DirectionalLight(color='white', intensity=0.6, position=(0.4990165…"
      ]
     },
     "metadata": {},
     "output_type": "display_data"
    },
    {
     "data": {
      "text/plain": [
       "1"
      ]
     },
     "execution_count": 11,
     "metadata": {},
     "output_type": "execute_result"
    }
   ],
   "source": [
    "\n",
    "\n",
    "# remapping = [0, 1, 2, 3,   4, 5,  6, 7,   8, 9,    11, 10,  15, 14,  13, 12,    16, 17, 19, 18]\n",
    "rV, rT = sample_tet(6)\n",
    "\n",
    "ppp = []\n",
    "ttt = []\n",
    "tot = 0\n",
    "\n",
    "\n",
    "for ti in tqdm(range(T.shape[0])):\n",
    "    TT = T[ti, :]\n",
    "    pts = V[TT]\n",
    "\n",
    "    img_p = gmapping(order, rV, pts)\n",
    "\n",
    "    ppp.extend(img_p)\n",
    "    ttt.extend(rT+tot)\n",
    "    tot+=img_p.shape[0]\n",
    "\n",
    "\n",
    "ppp = np.array(ppp)\n",
    "ttt = np.array(ttt, dtype=int)\n",
    "\n",
    "p_uni, _, inverse = np.unique(ppp, return_index=True, return_inverse=True, axis=0)\n",
    "t_uni = np.array([inverse[ttt[:, 0]], inverse[ttt[:, 1]], inverse[ttt[:, 2]], inverse[ttt[:, 3]]]).transpose()\n",
    "\n",
    "p = mp.plot(p_uni, t_uni, shading={\"wireframe\": True})\n",
    "p.add_points(V, shading={\"point_size\": 0.05})\n",
    "\n",
    "F = igl.boundary_facets(t_uni)"
   ]
  },
  {
   "cell_type": "code",
   "execution_count": 12,
   "metadata": {},
   "outputs": [
    {
     "data": {
      "text/plain": [
       "array([[0. , 0. , 0. ],\n",
       "       [0. , 0. , 0.2],\n",
       "       [0. , 0. , 0.4],\n",
       "       [0. , 0. , 0.6],\n",
       "       [0. , 0. , 0.8],\n",
       "       [0. , 0. , 1. ],\n",
       "       [0. , 0.2, 0. ],\n",
       "       [0. , 0.2, 0.2],\n",
       "       [0. , 0.2, 0.4],\n",
       "       [0. , 0.2, 0.6],\n",
       "       [0. , 0.2, 0.8],\n",
       "       [0. , 0.4, 0. ],\n",
       "       [0. , 0.4, 0.2],\n",
       "       [0. , 0.4, 0.4],\n",
       "       [0. , 0.4, 0.6],\n",
       "       [0. , 0.6, 0. ],\n",
       "       [0. , 0.6, 0.2],\n",
       "       [0. , 0.6, 0.4],\n",
       "       [0. , 0.8, 0. ],\n",
       "       [0. , 0.8, 0.2],\n",
       "       [0. , 1. , 0. ],\n",
       "       [0.2, 0. , 0. ],\n",
       "       [0.2, 0. , 0.2],\n",
       "       [0.2, 0. , 0.4],\n",
       "       [0.2, 0. , 0.6],\n",
       "       [0.2, 0. , 0.8],\n",
       "       [0.2, 0.2, 0. ],\n",
       "       [0.2, 0.2, 0.2],\n",
       "       [0.2, 0.2, 0.4],\n",
       "       [0.2, 0.2, 0.6],\n",
       "       [0.2, 0.4, 0. ],\n",
       "       [0.2, 0.4, 0.2],\n",
       "       [0.2, 0.4, 0.4],\n",
       "       [0.2, 0.6, 0. ],\n",
       "       [0.2, 0.6, 0.2],\n",
       "       [0.2, 0.8, 0. ],\n",
       "       [0.4, 0. , 0. ],\n",
       "       [0.4, 0. , 0.2],\n",
       "       [0.4, 0. , 0.4],\n",
       "       [0.4, 0. , 0.6],\n",
       "       [0.4, 0.2, 0. ],\n",
       "       [0.4, 0.2, 0.2],\n",
       "       [0.4, 0.2, 0.4],\n",
       "       [0.4, 0.4, 0. ],\n",
       "       [0.4, 0.4, 0.2],\n",
       "       [0.4, 0.6, 0. ],\n",
       "       [0.6, 0. , 0. ],\n",
       "       [0.6, 0. , 0.2],\n",
       "       [0.6, 0. , 0.4],\n",
       "       [0.6, 0.2, 0. ],\n",
       "       [0.6, 0.2, 0.2],\n",
       "       [0.6, 0.4, 0. ],\n",
       "       [0.8, 0. , 0. ],\n",
       "       [0.8, 0. , 0.2],\n",
       "       [0.8, 0.2, 0. ],\n",
       "       [1. , 0. , 0. ]])"
      ]
     },
     "execution_count": 12,
     "metadata": {},
     "output_type": "execute_result"
    }
   ],
   "source": [
    "rV"
   ]
  },
  {
   "cell_type": "code",
   "execution_count": null,
   "metadata": {},
   "outputs": [],
   "source": []
  }
 ],
 "metadata": {
  "interpreter": {
   "hash": "e7370f93d1d0cde622a1f8e1c04877d8463912d04d973331ad4851f04de6915a"
  },
  "kernelspec": {
   "display_name": "Python 3.10.2 64-bit",
   "language": "python",
   "name": "python3"
  },
  "language_info": {
   "codemirror_mode": {
    "name": "ipython",
    "version": 3
   },
   "file_extension": ".py",
   "mimetype": "text/x-python",
   "name": "python",
   "nbconvert_exporter": "python",
   "pygments_lexer": "ipython3",
   "version": "3.10.2"
  }
 },
 "nbformat": 4,
 "nbformat_minor": 4
}
