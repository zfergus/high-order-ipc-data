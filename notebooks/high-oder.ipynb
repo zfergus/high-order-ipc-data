{
 "cells": [
  {
   "cell_type": "code",
   "execution_count": 2,
   "metadata": {},
   "outputs": [],
   "source": [
    "import meshio as mio\n",
    "import meshplot as mp\n",
    "import numpy as np\n",
    "from utils import *\n",
    "import torch\n",
    "from tqdm import tqdm"
   ]
  },
  {
   "cell_type": "code",
   "execution_count": 3,
   "metadata": {},
   "outputs": [],
   "source": [
    "# m = mio.read(\"../meshes/sphere/sphere3.msh\")\n",
    "m = mio.read(\"../meshes/armadillo/armadillop4.msh\")\n",
    "\n",
    "order = 3 if m.cells[-1].type == 'tetra20' else 4\n",
    "T = m.cells[-1].data.astype(int)\n",
    "V = m.points"
   ]
  },
  {
   "cell_type": "code",
   "execution_count": 17,
   "metadata": {},
   "outputs": [],
   "source": [
    "def energy(order, uv, pts, target):\n",
    "    img_p = gmapping(order, uv, pts)\n",
    "    \n",
    "    if type(pts) is np.array or type(pts) is np.ndarray:\n",
    "        return np.linalg.norm(img_p - target)**2;\n",
    "    else:\n",
    "        return torch.norm(img_p - target)**2"
   ]
  },
  {
   "cell_type": "code",
   "execution_count": 18,
   "metadata": {},
   "outputs": [],
   "source": [
    "def inver_gmapping(order, uv0, pts, target, eps=1e-10):\n",
    "    tuv0 = torch.tensor(uv0, requires_grad=True, dtype = torch.float64)\n",
    "    tpts = torch.tensor(pts, dtype = torch.float64)\n",
    "    tt = torch.tensor(target, dtype = torch.float64)\n",
    "    \n",
    "    optimizer = torch.torch.optim.LBFGS([tuv0],\n",
    "                              lr=0.1,\n",
    "                              history_size=20,\n",
    "                              max_iter=10,\n",
    "                              line_search_fn=\"strong_wolfe\")\n",
    "    \n",
    "    f = lambda uv: energy(order, uv, tpts, tt)\n",
    "    vv = []\n",
    "    \n",
    "    for i in tqdm(range(1000)):\n",
    "        optimizer.zero_grad()\n",
    "        objective = f(tuv0)\n",
    "        objective.backward()\n",
    "        optimizer.step(lambda: f(tuv0))\n",
    "        vv.append(objective.item())\n",
    "    \n",
    "        if objective.item() < eps:\n",
    "            break\n",
    "            \n",
    "    \n",
    "    return tuv0.detach().numpy(), vv"
   ]
  },
  {
   "cell_type": "code",
   "execution_count": 19,
   "metadata": {},
   "outputs": [
    {
     "name": "stderr",
     "output_type": "stream",
     "text": [
      "  3%|▎         | 29/1000 [00:02<01:03, 15.39it/s]\n"
     ]
    }
   ],
   "source": [
    "ti = 80\n",
    "# \n",
    "rV, rT = sample_tet(8)\n",
    "\n",
    "TT = T[ti, :]\n",
    "pts = V[TT]*100\n",
    "\n",
    "target = np.array([80., 80., 70.])\n",
    "\n",
    "opt, vv = inver_gmapping(order, rV[0, :], pts, target)"
   ]
  },
  {
   "cell_type": "code",
   "execution_count": 20,
   "metadata": {},
   "outputs": [
    {
     "name": "stdout",
     "output_type": "stream",
     "text": [
      "<class 'numpy.ndarray'> <class 'numpy.ndarray'>\n",
      "[80.00000004 79.99999948 69.99999971]\n",
      "3.6041587584165737e-13\n"
     ]
    }
   ],
   "source": [
    "print(type(opt), type(pts))\n",
    "\n",
    "print(gmapping(order, opt, pts))\n",
    "print(energy(order, opt, pts, target))"
   ]
  },
  {
   "cell_type": "code",
   "execution_count": null,
   "metadata": {},
   "outputs": [],
   "source": [
    "\n",
    "\n",
    "# remapping = [0, 1, 2, 3,   4, 5,  6, 7,   8, 9,    11, 10,  15, 14,  13, 12,    16, 17, 19, 18]\n",
    "rV, rT = sample_tet(6)\n",
    "\n",
    "ppp = []\n",
    "ttt = []\n",
    "tot = 0\n",
    "\n",
    "\n",
    "for ti in tqdm(range(T.shape[0])):\n",
    "    TT = T[ti, :]\n",
    "    pts = V[TT]\n",
    "\n",
    "    img_p = gmapping(order, rV, pts)\n",
    "\n",
    "    ppp += img_p.tolist()\n",
    "    ttt += (rT+tot).tolist()\n",
    "    tot+=img_p.shape[0]\n",
    "\n",
    "\n",
    "ppp = np.array(ppp)\n",
    "ttt = np.array(ttt, dtype=int)\n",
    "\n",
    "p_uni, _, inverse = np.unique(ppp, return_index=True, return_inverse=True, axis=0)\n",
    "t_uni = np.array([inverse[ttt[:, 0]], inverse[ttt[:, 1]], inverse[ttt[:, 2]], inverse[ttt[:, 3]]]).transpose()\n",
    "\n",
    "p = mp.plot(p_uni, t_uni, shading={\"wireframe\": True})\n",
    "p.add_points(V, shading={\"point_size\": 0.05})"
   ]
  },
  {
   "cell_type": "code",
   "execution_count": null,
   "metadata": {},
   "outputs": [],
   "source": [
    "ttt"
   ]
  },
  {
   "cell_type": "code",
   "execution_count": null,
   "metadata": {},
   "outputs": [],
   "source": [
    "x.tolist"
   ]
  }
 ],
 "metadata": {
  "kernelspec": {
   "display_name": "Python 3",
   "language": "python",
   "name": "python3"
  },
  "language_info": {
   "codemirror_mode": {
    "name": "ipython",
    "version": 3
   },
   "file_extension": ".py",
   "mimetype": "text/x-python",
   "name": "python",
   "nbconvert_exporter": "python",
   "pygments_lexer": "ipython3",
   "version": "3.6.10"
  }
 },
 "nbformat": 4,
 "nbformat_minor": 4
}
