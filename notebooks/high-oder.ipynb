{
 "cells": [
  {
   "cell_type": "code",
   "execution_count": null,
   "metadata": {},
   "outputs": [],
   "source": [
    "import meshio as mio\n",
    "import meshplot as mp\n",
    "import numpy as np\n",
    "from utils import *\n",
    "import torch\n",
    "from tqdm import tqdm"
   ]
  },
  {
   "cell_type": "code",
   "execution_count": null,
   "metadata": {},
   "outputs": [],
   "source": [
    "# m = mio.read(\"../meshes/sphere/sphere3.msh\")\n",
    "m = mio.read(\"../meshes/armadillo/armadillop4.msh\")\n",
    "\n",
    "order = 3 if m.cells[-1].type == 'tetra20' else 4\n",
    "T = m.cells[-1].data.astype(int)\n",
    "V = m.points"
   ]
  },
  {
   "cell_type": "code",
   "execution_count": null,
   "metadata": {},
   "outputs": [],
   "source": [
    "# def gmapping(order, remapping, uv, pts):\n",
    "#     res = np.zeros_like(uv)\n",
    "\n",
    "#     for i in range(pts.shape[0]):\n",
    "#         bb = p_eval(order, i, uv)\n",
    "#         for d in range(3):\n",
    "#             res[:, d] += pts[remapping[i], d] * bb\n",
    "            \n",
    "#     return res"
   ]
  },
  {
   "cell_type": "code",
   "execution_count": null,
   "metadata": {},
   "outputs": [],
   "source": [
    "ti = 80\n",
    "# \n",
    "rV, rT = sample_tet(8)\n",
    "\n",
    "TT = T[ti, :]\n",
    "pts = V[TT]*100\n",
    "\n",
    "# print(pts)\n",
    "\n",
    "# remapping = [0, 1, 2, 3,   4,5,  6,7,   8, 9,    11, 10,  15, 14,  13, 12,    16, 17, 19, 18]\n",
    "#                                                                                         x          x          x\n",
    "# remapping = [0,1,2,3,  4,5,6,  7,8,9,  10,11,12,  15,14,13,  21,20,19,  18,17,16,      22,23,24,  25,27,26,  32,31,33, 30,29,28,   34]\n",
    "\n",
    "img_p = gmapping(order, rV, pts)\n",
    "\n",
    "p = mp.plot(img_p, rT, shading={\"wireframe\": True})\n",
    "p.add_points(pts, shading={\"point_size\": 0.1})\n",
    "p.add_points(pts[8:10,:], shading={\"point_size\": 0.2})\n",
    "p.add_points(pts[28:31,:], shading={\"point_size\": 0.4})\n",
    "# mp.plot(pts, shading={\"point_size\": 0.1})\n",
    "\n",
    "# print(np.array(np.linalg.norm((pts - img_p), axis=1)*100,dtype=int))\n",
    "# print()\n",
    "\n",
    "# (pts - img_p).min()"
   ]
  },
  {
   "cell_type": "code",
   "execution_count": null,
   "metadata": {},
   "outputs": [],
   "source": [
    "\n",
    "\n",
    "# remapping = [0, 1, 2, 3,   4, 5,  6, 7,   8, 9,    11, 10,  15, 14,  13, 12,    16, 17, 19, 18]\n",
    "rV, rT = sample_tet(6)\n",
    "\n",
    "ppp = []\n",
    "ttt = []\n",
    "tot = 0\n",
    "\n",
    "\n",
    "for ti in tqdm(range(T.shape[0])):\n",
    "    TT = T[ti, :]\n",
    "    pts = V[TT]\n",
    "\n",
    "    img_p = gmapping(order, rV, pts)\n",
    "\n",
    "    ppp += img_p.tolist()\n",
    "    ttt += (rT+tot).tolist()\n",
    "    tot+=img_p.shape[0]\n",
    "\n",
    "\n",
    "ppp = np.array(ppp)\n",
    "ttt = np.array(ttt, dtype=int)\n",
    "\n",
    "p_uni, _, inverse = np.unique(ppp, return_index=True, return_inverse=True, axis=0)\n",
    "t_uni = np.array([inverse[ttt[:, 0]], inverse[ttt[:, 1]], inverse[ttt[:, 2]], inverse[ttt[:, 3]]]).transpose()\n",
    "\n",
    "p = mp.plot(p_uni, t_uni, shading={\"wireframe\": True})\n",
    "p.add_points(V, shading={\"point_size\": 0.05})"
   ]
  },
  {
   "cell_type": "code",
   "execution_count": null,
   "metadata": {},
   "outputs": [],
   "source": [
    "ttt"
   ]
  },
  {
   "cell_type": "code",
   "execution_count": null,
   "metadata": {},
   "outputs": [],
   "source": [
    "x.tolist"
   ]
  }
 ],
 "metadata": {
  "kernelspec": {
   "display_name": "Python 3",
   "language": "python",
   "name": "python3"
  },
  "language_info": {
   "codemirror_mode": {
    "name": "ipython",
    "version": 3
   },
   "file_extension": ".py",
   "mimetype": "text/x-python",
   "name": "python",
   "nbconvert_exporter": "python",
   "pygments_lexer": "ipython3",
   "version": "3.6.10"
  }
 },
 "nbformat": 4,
 "nbformat_minor": 4
}
