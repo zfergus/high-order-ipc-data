{
 "cells": [
  {
   "cell_type": "code",
   "execution_count": 63,
   "metadata": {},
   "outputs": [],
   "source": [
    "import numpy\n",
    "import meshio\n",
    "import pathlib\n",
    "from scipy.spatial.transform import Rotation\n",
    "import meshplot"
   ]
  },
  {
   "cell_type": "code",
   "execution_count": 64,
   "metadata": {},
   "outputs": [],
   "source": [
    "data_dir = pathlib.Path(\"../meshes/graspsim/\")\n",
    "assert(data_dir.exists())"
   ]
  },
  {
   "cell_type": "code",
   "execution_count": 65,
   "metadata": {},
   "outputs": [
    {
     "name": "stdout",
     "output_type": "stream",
     "text": [
      "script grasp\n",
      "shapes input 5\n",
      "cube_3cm.msh 0.000000 1.600000 -0.000000 -0.024541 0.999699 -0.010000 0.000000 0.000000 -1.000000 -0.999699 -0.024541 -0.000000 100 100 100 material 111 1e10 0.3\n",
      "round_pad.obj -1.880502 1.440331 1.621834 0.050098 -0.076310 0.995825 -0.998741 -0.001131 0.050158 -0.002702 -0.997084 -0.076270 80.000000 80.000000 80.000000 material 2300 100000000.000000 0.45 DBC -3 -3 0 3 3 0 1.244781 0.062697 -0.095338 0 0 0\n",
      "cube.obj -2.496523 4.911693 2.417238 0.050098 -0.076310 0.995825 -0.998741 -0.001131 0.050158 -0.002702 -0.997084 -0.076270 3.750000 1.500000 0.200000 linearVelocity 1.244781 0.062697 -0.095338\n",
      "round_pad.obj 3.098790 1.691122 1.242676 0.050098 0.076310 -0.995825 -0.998741 0.001131 -0.050158 -0.002702 0.997084 0.076270 80.000000 80.000000 80.000000 material 2300 100000000.000000 0.45 DBC -3 -3 0 3 3 0 -1.244781 -0.062697 0.095338 0 0 0\n",
      "cube.obj 3.364129 5.210945 0.466184 0.050098 0.076310 -0.995825 -0.998741 0.001131 -0.050158 -0.002702 0.997084 0.076270 3.750000 1.500000 0.200000 linearVelocity -1.244781 -0.062697 0.095338\n",
      "selfFric 0.300000\n",
      "ground 0.1 0\n",
      "time 2.000000 0.020000\n",
      "\n"
     ]
    }
   ],
   "source": [
    "with open(data_dir / \"cube_3cm_config.txt\") as f:\n",
    "    lines = f.readlines()\n",
    "print(\"\".join(lines))"
   ]
  },
  {
   "cell_type": "code",
   "execution_count": 66,
   "metadata": {},
   "outputs": [
    {
     "name": "stdout",
     "output_type": "stream",
     "text": [
      "['material', '111', '1e10', '0.3']\n",
      "['material', '2300', '100000000.000000', '0.45', 'DBC', '-3', '-3', '0', '3', '3', '0', '1.244781', '0.062697', '-0.095338', '0', '0', '0']\n",
      "['linearVelocity', '1.244781', '0.062697', '-0.095338']\n",
      "['material', '2300', '100000000.000000', '0.45', 'DBC', '-3', '-3', '0', '3', '3', '0', '-1.244781', '-0.062697', '0.095338', '0', '0', '0']\n",
      "['linearVelocity', '-1.244781', '-0.062697', '0.095338']\n",
      "{'meshes': [{'mesh': '../meshes/graspsim/cube_3cm.msh', 'position': [0.0, 1.6, -0.0], 'rotation': array([[-0.024541,  0.999699, -0.01    ],\n",
      "       [ 0.      ,  0.      , -1.      ],\n",
      "       [-0.999699, -0.024541, -0.      ]]), 'scale': [100.0, 100.0, 100.0]}], 'obstacles': [{'mesh': '../meshes/graspsim/round_pad.obj', 'position': [-1.880502, 1.440331, 1.621834], 'rotation': array([[ 0.050098, -0.07631 ,  0.995825],\n",
      "       [-0.998741, -0.001131,  0.050158],\n",
      "       [-0.002702, -0.997084, -0.07627 ]]), 'scale': [80.0, 80.0, 80.0]}, {'mesh': '../meshes/graspsim/cube.obj', 'position': [-2.496523, 4.911693, 2.417238], 'rotation': array([[ 0.050098, -0.07631 ,  0.995825],\n",
      "       [-0.998741, -0.001131,  0.050158],\n",
      "       [-0.002702, -0.997084, -0.07627 ]]), 'scale': [3.75, 1.5, 0.2]}, {'mesh': '../meshes/graspsim/round_pad.obj', 'position': [3.09879, 1.691122, 1.242676], 'rotation': array([[ 0.050098,  0.07631 , -0.995825],\n",
      "       [-0.998741,  0.001131, -0.050158],\n",
      "       [-0.002702,  0.997084,  0.07627 ]]), 'scale': [80.0, 80.0, 80.0]}, {'mesh': '../meshes/graspsim/cube.obj', 'position': [3.364129, 5.210945, 0.466184], 'rotation': array([[ 0.050098,  0.07631 , -0.995825],\n",
      "       [-0.998741,  0.001131, -0.050158],\n",
      "       [-0.002702,  0.997084,  0.07627 ]]), 'scale': [3.75, 1.5, 0.2]}], 'mu': 0.3, 'tend': 2.0, 'dt': 0.02}\n"
     ]
    }
   ],
   "source": [
    "params={\n",
    "    \"meshes\": [],\n",
    "    \"obstacles\": []\n",
    "}\n",
    "\n",
    "def parse_shape_line(line):\n",
    "    tokens = line.split()\n",
    "    mesh = {}\n",
    "    mesh[\"mesh\"] = str(data_dir / tokens[0])\n",
    "    mesh[\"position\"] = [float(t) for t in tokens[1:4]]\n",
    "    R = numpy.array([float(t) for t in tokens[4:13]]).reshape(3, 3)\n",
    "    # mesh[\"rotation\"] = (numpy.array(R.as_euler(\"xyz\")) * 180/numpy.pi).tolist()\n",
    "    mesh[\"rotation\"] = R\n",
    "    mesh[\"scale\"] = [float(t) for t in tokens[13:16]]\n",
    "    if pathlib.Path(tokens[0]).suffix == \".msh\":\n",
    "        params[\"meshes\"].append(mesh)\n",
    "    else:\n",
    "        params[\"obstacles\"].append(mesh)\n",
    "    print(tokens[16:])\n",
    "\n",
    "i = 0\n",
    "while i < len(lines):\n",
    "    line = lines[i].strip()\n",
    "    tokens = line.split()\n",
    "    i += 1\n",
    "    if tokens[0] == \"shapes\":\n",
    "        num_shapes = int(tokens[2])\n",
    "        for _ in range(num_shapes):\n",
    "            line = lines[i].strip()\n",
    "            parse_shape_line(line)\n",
    "            i += 1\n",
    "    elif tokens[0] == \"selfFric\":\n",
    "        params[\"mu\"] = float(tokens[1])\n",
    "    elif tokens[0] == \"time\":\n",
    "        params[\"tend\"] = float(tokens[1])\n",
    "        params[\"dt\"] = float(tokens[2])\n",
    "    elif tokens[0] == \"ground\":\n",
    "        pass # TODO: Add ground plane to obstacles\n",
    "    \n",
    "print(params)"
   ]
  },
  {
   "cell_type": "code",
   "execution_count": 71,
   "metadata": {},
   "outputs": [
    {
     "name": "stdout",
     "output_type": "stream",
     "text": [
      "\n",
      "[0.0, 1.6, -0.0]\n"
     ]
    },
    {
     "data": {
      "text/html": [
       "<pre style=\"white-space:pre;overflow-x:auto;line-height:normal;font-family:Menlo,'DejaVu Sans Mono',consolas,'Courier New',monospace\"><span style=\"color: #808000; text-decoration-color: #808000; font-weight: bold\">Warning:</span><span style=\"color: #808000; text-decoration-color: #808000\"> cell_type </span><span style=\"color: #808000; text-decoration-color: #808000\">\"tetra\"</span><span style=\"color: #808000; text-decoration-color: #808000\"> is not supported by PLY format - skipping</span>\n",
       "</pre>\n"
      ],
      "text/plain": [
       "\u001b[1;33mWarning:\u001b[0m\u001b[33m cell_type \u001b[0m\u001b[33m\"tetra\"\u001b[0m\u001b[33m is not supported by PLY format - skipping\u001b[0m\n"
      ]
     },
     "metadata": {},
     "output_type": "display_data"
    },
    {
     "name": "stdout",
     "output_type": "stream",
     "text": [
      "[-1.880502, 1.440331, 1.621834]\n"
     ]
    },
    {
     "data": {
      "text/html": [
       "<pre style=\"white-space:pre;overflow-x:auto;line-height:normal;font-family:Menlo,'DejaVu Sans Mono',consolas,'Courier New',monospace\"><span style=\"color: #808000; text-decoration-color: #808000; font-weight: bold\">Warning:</span><span style=\"color: #808000; text-decoration-color: #808000\"> PLY doesn't support </span><span style=\"color: #808000; text-decoration-color: #808000; font-weight: bold\">64</span><span style=\"color: #808000; text-decoration-color: #808000\">-bit integers. Casting down to </span><span style=\"color: #808000; text-decoration-color: #808000; font-weight: bold\">32</span><span style=\"color: #808000; text-decoration-color: #808000\">-bit.</span>\n",
       "</pre>\n"
      ],
      "text/plain": [
       "\u001b[1;33mWarning:\u001b[0m\u001b[33m PLY doesn't support \u001b[0m\u001b[1;33m64\u001b[0m\u001b[33m-bit integers. Casting down to \u001b[0m\u001b[1;33m32\u001b[0m\u001b[33m-bit.\u001b[0m\n"
      ]
     },
     "metadata": {},
     "output_type": "display_data"
    },
    {
     "name": "stdout",
     "output_type": "stream",
     "text": [
      "[-2.496523, 4.911693, 2.417238]\n"
     ]
    },
    {
     "data": {
      "text/html": [
       "<pre style=\"white-space:pre;overflow-x:auto;line-height:normal;font-family:Menlo,'DejaVu Sans Mono',consolas,'Courier New',monospace\"><span style=\"color: #808000; text-decoration-color: #808000; font-weight: bold\">Warning:</span><span style=\"color: #808000; text-decoration-color: #808000\"> PLY doesn't support </span><span style=\"color: #808000; text-decoration-color: #808000; font-weight: bold\">64</span><span style=\"color: #808000; text-decoration-color: #808000\">-bit integers. Casting down to </span><span style=\"color: #808000; text-decoration-color: #808000; font-weight: bold\">32</span><span style=\"color: #808000; text-decoration-color: #808000\">-bit.</span>\n",
       "</pre>\n"
      ],
      "text/plain": [
       "\u001b[1;33mWarning:\u001b[0m\u001b[33m PLY doesn't support \u001b[0m\u001b[1;33m64\u001b[0m\u001b[33m-bit integers. Casting down to \u001b[0m\u001b[1;33m32\u001b[0m\u001b[33m-bit.\u001b[0m\n"
      ]
     },
     "metadata": {},
     "output_type": "display_data"
    },
    {
     "name": "stdout",
     "output_type": "stream",
     "text": [
      "[3.09879, 1.691122, 1.242676]\n"
     ]
    },
    {
     "data": {
      "text/html": [
       "<pre style=\"white-space:pre;overflow-x:auto;line-height:normal;font-family:Menlo,'DejaVu Sans Mono',consolas,'Courier New',monospace\"><span style=\"color: #808000; text-decoration-color: #808000; font-weight: bold\">Warning:</span><span style=\"color: #808000; text-decoration-color: #808000\"> PLY doesn't support </span><span style=\"color: #808000; text-decoration-color: #808000; font-weight: bold\">64</span><span style=\"color: #808000; text-decoration-color: #808000\">-bit integers. Casting down to </span><span style=\"color: #808000; text-decoration-color: #808000; font-weight: bold\">32</span><span style=\"color: #808000; text-decoration-color: #808000\">-bit.</span>\n",
       "</pre>\n"
      ],
      "text/plain": [
       "\u001b[1;33mWarning:\u001b[0m\u001b[33m PLY doesn't support \u001b[0m\u001b[1;33m64\u001b[0m\u001b[33m-bit integers. Casting down to \u001b[0m\u001b[1;33m32\u001b[0m\u001b[33m-bit.\u001b[0m\n"
      ]
     },
     "metadata": {},
     "output_type": "display_data"
    },
    {
     "name": "stdout",
     "output_type": "stream",
     "text": [
      "[3.364129, 5.210945, 0.466184]\n"
     ]
    },
    {
     "data": {
      "text/html": [
       "<pre style=\"white-space:pre;overflow-x:auto;line-height:normal;font-family:Menlo,'DejaVu Sans Mono',consolas,'Courier New',monospace\"><span style=\"color: #808000; text-decoration-color: #808000; font-weight: bold\">Warning:</span><span style=\"color: #808000; text-decoration-color: #808000\"> PLY doesn't support </span><span style=\"color: #808000; text-decoration-color: #808000; font-weight: bold\">64</span><span style=\"color: #808000; text-decoration-color: #808000\">-bit integers. Casting down to </span><span style=\"color: #808000; text-decoration-color: #808000; font-weight: bold\">32</span><span style=\"color: #808000; text-decoration-color: #808000\">-bit.</span>\n",
       "</pre>\n"
      ],
      "text/plain": [
       "\u001b[1;33mWarning:\u001b[0m\u001b[33m PLY doesn't support \u001b[0m\u001b[1;33m64\u001b[0m\u001b[33m-bit integers. Casting down to \u001b[0m\u001b[1;33m32\u001b[0m\u001b[33m-bit.\u001b[0m\n"
      ]
     },
     "metadata": {},
     "output_type": "display_data"
    }
   ],
   "source": [
    "for i, mesh in enumerate(params[\"meshes\"] + params[\"obstacles\"]):\n",
    "    M = meshio.read(mesh[\"mesh\"])\n",
    "    M.points = (\n",
    "        M.points \n",
    "        @ numpy.diag(mesh[\"scale\"]).T\n",
    "        # @ mesh[\"rotation\"].T\n",
    "        # + numpy.array(mesh[\"position\"])\n",
    "    )\n",
    "    print(mesh[\"rotation\"])\n",
    "    print(mesh[\"position\"])\n",
    "    M.point_data={}\n",
    "    M.cell_data={}\n",
    "    M.write(data_dir / f\"{i}.ply\", file_format=\"ply\")\n",
    "\n"
   ]
  },
  {
   "cell_type": "code",
   "execution_count": null,
   "metadata": {},
   "outputs": [],
   "source": []
  },
  {
   "cell_type": "code",
   "execution_count": null,
   "metadata": {},
   "outputs": [],
   "source": []
  }
 ],
 "metadata": {
  "interpreter": {
   "hash": "949777d72b0d2535278d3dc13498b2535136f6dfe0678499012e853ee9abcab1"
  },
  "kernelspec": {
   "display_name": "Python 3.9.12 64-bit",
   "language": "python",
   "name": "python3"
  },
  "language_info": {
   "codemirror_mode": {
    "name": "ipython",
    "version": 3
   },
   "file_extension": ".py",
   "mimetype": "text/x-python",
   "name": "python",
   "nbconvert_exporter": "python",
   "pygments_lexer": "ipython3",
   "version": "3.9.12"
  },
  "orig_nbformat": 4
 },
 "nbformat": 4,
 "nbformat_minor": 2
}
