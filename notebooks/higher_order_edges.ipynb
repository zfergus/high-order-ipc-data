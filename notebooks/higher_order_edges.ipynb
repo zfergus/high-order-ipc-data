{
 "cells": [
  {
   "cell_type": "code",
   "execution_count": 116,
   "metadata": {},
   "outputs": [],
   "source": [
    "import numpy as np\n",
    "import meshio as mio\n",
    "import meshplot as mp"
   ]
  },
  {
   "cell_type": "code",
   "execution_count": 117,
   "metadata": {},
   "outputs": [],
   "source": [
    "shading = {\n",
    "    \"flat\": False, # Flat or smooth shading of triangles\n",
    "    \"wireframe\": False, \"wire_width\": 0.1, \"wire_color\": \"black\", # Wireframe rendering\n",
    "    \"width\": 1200, \"height\": 800, # Size of the viewer canvas\n",
    "    \"antialias\": True, # Antialising, might not work on all GPUs\n",
    "    \"scale\": 2.0, # Scaling of the model\n",
    "    \"side\": \"DoubleSide\", # FrontSide, BackSide or DoubleSide rendering of the triangles\n",
    "    \"colormap\": \"viridis\", \"normalize\": [None, None], # Colormap and normalization for colors\n",
    "    \"background\": \"#ffffff\", # Background color of the canvas\n",
    "    \"line_width\": 2.0, \"line_color\": \"black\", # Line properties of overlay lines\n",
    "    \"bbox\": True, # Enable plotting of bounding box\n",
    "    \"point_color\": \"red\", \"point_size\": 0.01 # Point properties of overlay points\n",
    "}"
   ]
  },
  {
   "cell_type": "code",
   "execution_count": 118,
   "metadata": {},
   "outputs": [],
   "source": [
    "E = np.loadtxt(\"../meshes/armadillo/armadillo_P4-P4-higher-order-edges.txt\").astype(int)\n",
    "mesh = mio.read(\"../meshes/armadillo/armadillo_P4-P4-collision-mesh.obj\")\n",
    "# E = np.loadtxt(\"../meshes/microstructure/microstructure_P4-P4-higher-order-edges.txt\").astype(int)\n",
    "# mesh = mio.read(\"../meshes/microstructure/microstructure_P4-P4-collision-mesh.obj\")"
   ]
  },
  {
   "cell_type": "code",
   "execution_count": 119,
   "metadata": {},
   "outputs": [
    {
     "name": "stdout",
     "output_type": "stream",
     "text": [
      "(50708, 3)\n"
     ]
    },
    {
     "data": {
      "application/vnd.jupyter.widget-view+json": {
       "model_id": "1a0f124a60d54249bede7ad16f1ee91e",
       "version_major": 2,
       "version_minor": 0
      },
      "text/plain": [
       "Renderer(camera=PerspectiveCamera(aspect=1.5, children=(DirectionalLight(color='white', intensity=0.6, positio…"
      ]
     },
     "metadata": {},
     "output_type": "display_data"
    },
    {
     "data": {
      "text/plain": [
       "1"
      ]
     },
     "execution_count": 119,
     "metadata": {},
     "output_type": "execute_result"
    }
   ],
   "source": [
    "print(mesh.points.shape)\n",
    "plt = mp.plot(mesh.points, mesh.cells[0].data, shading=shading)\n",
    "plt.add_edges(mesh.points, E)"
   ]
  },
  {
   "cell_type": "code",
   "execution_count": 120,
   "metadata": {},
   "outputs": [
    {
     "ename": "ReadError",
     "evalue": "File collision_mesh_0.obj not found.",
     "output_type": "error",
     "traceback": [
      "\u001b[0;31m---------------------------------------------------------------------------\u001b[0m",
      "\u001b[0;31mReadError\u001b[0m                                 Traceback (most recent call last)",
      "\u001b[1;32m/home/zachary/Development/decoupled-contact/notebooks/higher_order_edges.ipynb Cell 5'\u001b[0m in \u001b[0;36m<module>\u001b[0;34m\u001b[0m\n\u001b[0;32m----> <a href='vscode-notebook-cell://ssh-remote%2Bartemis/home/zachary/Development/decoupled-contact/notebooks/higher_order_edges.ipynb#ch0000004vscode-remote?line=0'>1</a>\u001b[0m sim_mesh \u001b[39m=\u001b[39m mio\u001b[39m.\u001b[39;49mread(\u001b[39m\"\u001b[39;49m\u001b[39mcollision_mesh_0.obj\u001b[39;49m\u001b[39m\"\u001b[39;49m)\n",
      "File \u001b[0;32m~/.local/lib/python3.10/site-packages/meshio/_helpers.py:71\u001b[0m, in \u001b[0;36mread\u001b[0;34m(filename, file_format)\u001b[0m\n\u001b[1;32m     <a href='file:///home/zachary/.local/lib/python3.10/site-packages/meshio/_helpers.py?line=67'>68</a>\u001b[0m \u001b[39mif\u001b[39;00m is_buffer(filename, \u001b[39m\"\u001b[39m\u001b[39mr\u001b[39m\u001b[39m\"\u001b[39m):\n\u001b[1;32m     <a href='file:///home/zachary/.local/lib/python3.10/site-packages/meshio/_helpers.py?line=68'>69</a>\u001b[0m     \u001b[39mreturn\u001b[39;00m _read_buffer(filename, file_format)\n\u001b[0;32m---> <a href='file:///home/zachary/.local/lib/python3.10/site-packages/meshio/_helpers.py?line=70'>71</a>\u001b[0m \u001b[39mreturn\u001b[39;00m _read_file(Path(filename), file_format)\n",
      "File \u001b[0;32m~/.local/lib/python3.10/site-packages/meshio/_helpers.py:90\u001b[0m, in \u001b[0;36m_read_file\u001b[0;34m(path, file_format)\u001b[0m\n\u001b[1;32m     <a href='file:///home/zachary/.local/lib/python3.10/site-packages/meshio/_helpers.py?line=87'>88</a>\u001b[0m \u001b[39mdef\u001b[39;00m \u001b[39m_read_file\u001b[39m(path: Path, file_format: \u001b[39mstr\u001b[39m \u001b[39m|\u001b[39m \u001b[39mNone\u001b[39;00m):\n\u001b[1;32m     <a href='file:///home/zachary/.local/lib/python3.10/site-packages/meshio/_helpers.py?line=88'>89</a>\u001b[0m     \u001b[39mif\u001b[39;00m \u001b[39mnot\u001b[39;00m path\u001b[39m.\u001b[39mexists():\n\u001b[0;32m---> <a href='file:///home/zachary/.local/lib/python3.10/site-packages/meshio/_helpers.py?line=89'>90</a>\u001b[0m         \u001b[39mraise\u001b[39;00m ReadError(\u001b[39mf\u001b[39m\u001b[39m\"\u001b[39m\u001b[39mFile \u001b[39m\u001b[39m{\u001b[39;00mpath\u001b[39m}\u001b[39;00m\u001b[39m not found.\u001b[39m\u001b[39m\"\u001b[39m)\n\u001b[1;32m     <a href='file:///home/zachary/.local/lib/python3.10/site-packages/meshio/_helpers.py?line=91'>92</a>\u001b[0m     \u001b[39mif\u001b[39;00m file_format:\n\u001b[1;32m     <a href='file:///home/zachary/.local/lib/python3.10/site-packages/meshio/_helpers.py?line=92'>93</a>\u001b[0m         possible_file_formats \u001b[39m=\u001b[39m [file_format]\n",
      "\u001b[0;31mReadError\u001b[0m: File collision_mesh_0.obj not found."
     ]
    }
   ],
   "source": [
    "sim_mesh = mio.read(\"collision_mesh_0.obj\")"
   ]
  },
  {
   "cell_type": "code",
   "execution_count": null,
   "metadata": {},
   "outputs": [
    {
     "data": {
      "application/vnd.jupyter.widget-view+json": {
       "model_id": "1b56d180b4c749c99ba0b60961dc082b",
       "version_major": 2,
       "version_minor": 0
      },
      "text/plain": [
       "Renderer(camera=PerspectiveCamera(aspect=1.5, children=(DirectionalLight(color='white', intensity=0.6, positio…"
      ]
     },
     "metadata": {},
     "output_type": "display_data"
    },
    {
     "data": {
      "text/plain": [
       "<meshplot.Viewer.Viewer at 0x7fb21950d660>"
      ]
     },
     "execution_count": 114,
     "metadata": {},
     "output_type": "execute_result"
    }
   ],
   "source": [
    "mp.plot(sim_mesh.points, sim_mesh.cells[0].data, shading=shading)"
   ]
  },
  {
   "cell_type": "code",
   "execution_count": null,
   "metadata": {},
   "outputs": [],
   "source": []
  }
 ],
 "metadata": {
  "interpreter": {
   "hash": "e7370f93d1d0cde622a1f8e1c04877d8463912d04d973331ad4851f04de6915a"
  },
  "kernelspec": {
   "display_name": "Python 3.10.2 64-bit",
   "language": "python",
   "name": "python3"
  },
  "language_info": {
   "codemirror_mode": {
    "name": "ipython",
    "version": 3
   },
   "file_extension": ".py",
   "mimetype": "text/x-python",
   "name": "python",
   "nbconvert_exporter": "python",
   "pygments_lexer": "ipython3",
   "version": "3.10.2"
  },
  "orig_nbformat": 4
 },
 "nbformat": 4,
 "nbformat_minor": 2
}
