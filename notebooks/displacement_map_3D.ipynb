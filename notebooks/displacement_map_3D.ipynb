{
 "cells": [
  {
   "cell_type": "code",
   "execution_count": 192,
   "metadata": {},
   "outputs": [],
   "source": [
    "import numpy\n",
    "import scipy.sparse\n",
    "from scipy.sparse.linalg import spsolve\n",
    "\n",
    "import quadpy\n",
    "\n",
    "import plotly.graph_objects as go\n",
    "from plotly.subplots import make_subplots\n",
    "\n",
    "import meshio\n",
    "import igl\n",
    "\n",
    "from aabbtree import AABB, AABBTree\n",
    "import trimesh\n",
    "\n",
    "from collections import namedtuple"
   ]
  },
  {
   "cell_type": "code",
   "execution_count": 193,
   "metadata": {},
   "outputs": [
    {
     "data": {
      "image/png": "[encoded data removed]",
      "text/plain": [
       "<Figure size 432x288 with 1 Axes>"
      ]
     },
     "metadata": {
      "needs_background": "light"
     },
     "output_type": "display_data"
    },
    {
     "data": {
      "text/plain": [
       "0.5000000000000001"
      ]
     },
     "execution_count": 193,
     "metadata": {},
     "output_type": "execute_result"
    }
   ],
   "source": [
    "# some quadrature rule\n",
    "scheme = quadpy.t2.get_good_scheme(12)\n",
    "scheme.show()\n",
    "scheme.integrate(lambda x: numpy.ones(x.shape[1]), [[0.0, 0.0], [1.0, 0.0], [0.0, 1.0]])"
   ]
  },
  {
   "cell_type": "code",
   "execution_count": 194,
   "metadata": {},
   "outputs": [],
   "source": [
    "def point_triangle_coord(p, a, b, c):\n",
    "    return igl.barycentric_coordinates_tri(\n",
    "        p.reshape((1, -1)).copy(), a.reshape((1, -1)).copy(), \n",
    "        b.reshape((1, -1)).copy(), c.reshape((1, -1)).copy())"
   ]
  },
  {
   "cell_type": "markdown",
   "metadata": {},
   "source": [
    "## Meshes"
   ]
  },
  {
   "cell_type": "code",
   "execution_count": 195,
   "metadata": {},
   "outputs": [],
   "source": [
    "coarse_mesh = meshio.read(\"../meshes/cube/cube.ply\")\n",
    "V_coarse = coarse_mesh.points\n",
    "F_coarse = coarse_mesh.cells[0].data.astype(int)\n",
    "# E_coarse = igl.boundary_facets(coarse_mesh.cells[0].data.astype(int))\n",
    "# V_coarse, E_coarse, *_ = igl.remove_unreferenced(V_coarse, E_coarse[:, [0, 1, 1]])\n",
    "\n",
    "fine_mesh = meshio.read(\"../meshes/cube/cube-sub4.ply\")\n",
    "V_fine = fine_mesh.points\n",
    "F_fine = fine_mesh.cells[0].data.astype(int)\n",
    "# E_fine = igl.boundary_facets(fine_mesh.cells[0].data.astype(int))\n",
    "# V_fine, E_fine, *_ = igl.remove_unreferenced(V_fine, E_fine[:, [0, 1, 1]])\n",
    "\n",
    "# point_triangle_coord(V_coarse[0], *V_fine[F_fine[10]])"
   ]
  },
  {
   "cell_type": "code",
   "execution_count": 196,
   "metadata": {},
   "outputs": [],
   "source": [
    "U_coarse = numpy.zeros(V_coarse.shape)\n",
    "U_coarse[:, 1] += numpy.sin(0.5 * numpy.pi * V_coarse[:, 0])\n",
    "\n",
    "U_fine = numpy.zeros(V_fine.shape)\n",
    "U_fine[:, 1] += numpy.sin(0.5 * numpy.pi * V_fine[:, 0])"
   ]
  },
  {
   "cell_type": "code",
   "execution_count": 197,
   "metadata": {},
   "outputs": [],
   "source": [
    "coarse_coll = True\n",
    "if coarse_coll:\n",
    "    V_coll, V_fem = V_coarse, V_fine\n",
    "    F_coll, F_fem = F_coarse, F_fine\n",
    "    U_coll, U_fem = U_coarse, U_fine\n",
    "else:\n",
    "    V_coll, V_fem = V_fine, V_coarse\n",
    "    F_coll, F_fem = F_fine, F_coarse\n",
    "    U_coll, U_fem = U_fine, U_coarse\n",
    "\n",
    "# V_fem = V_coll\n",
    "# E_fem = E_coll\n",
    "# U_fem = U_coll"
   ]
  },
  {
   "cell_type": "markdown",
   "metadata": {},
   "source": [
    "## L2 Projection"
   ]
  },
  {
   "cell_type": "code",
   "execution_count": 198,
   "metadata": {},
   "outputs": [
    {
     "data": {
      "text/plain": [
       "array([-0.11014088, -0.10460603,  0.07744961,  0.171261  , -0.12431179,\n",
       "       -0.44239961, -0.00891842, -0.18578279, -0.19029003, -0.55762814])"
      ]
     },
     "execution_count": 198,
     "metadata": {},
     "output_type": "execute_result"
    }
   ],
   "source": [
    "def hat_phi0(x):\n",
    "    return 1-x[0]-x[1]\n",
    "def hat_phi1(x):\n",
    "    return x[0]\n",
    "def hat_phi2(x):\n",
    "    return x[1]\n",
    "\n",
    "x = numpy.random.random((2, 10))\n",
    "hat_phi0(x) * hat_phi1(x)"
   ]
  },
  {
   "cell_type": "code",
   "execution_count": 199,
   "metadata": {},
   "outputs": [],
   "source": [
    "Basis = namedtuple(\"Basis\", [\"n_bases\", \"phi\", \"loc_2_glob\", \"gmapping\", \"grad_gmapping\"])\n",
    "\n",
    "def build_bases(V, F):\n",
    "    return [Basis(\n",
    "        n_bases=3,\n",
    "        phi=[hat_phi0, hat_phi1, hat_phi2], \n",
    "        loc_2_glob=f.tolist(),\n",
    "        gmapping =lambda x, f=f: (V[f] * x).sum(axis=0),\n",
    "        grad_gmapping=lambda _: 1 #[numpy.linalg.norm((V[f[1]] - V[f[0]])), numpy.linalg.norm((V[f[2]] - V[f[0]]))]\n",
    "    ) for f in F]"
   ]
  },
  {
   "cell_type": "code",
   "execution_count": null,
   "metadata": {},
   "outputs": [],
   "source": [
    "def compute_mass_mat(elements):\n",
    "    rows, cols, vals = [], [], []\n",
    "    \n",
    "    # same as above but now we use phi instead of grad_phi and no division\n",
    "    for el in elements:\n",
    "        for i, phi_i in enumerate(el.phi):\n",
    "            for j, phi_j in enumerate(el.phi):\n",
    "                # ∫_{ŝ_j} ϕ̂ᵢ⋅ϕ̂ⱼ \\,(s_{j, 1} - s_{j, 0})\n",
    "                val = scheme.integrate(\n",
    "                    lambda x: phi_i(x) * phi_j(x) * el.grad_gmapping(x),\n",
    "                    [[0.0, 0.0], [1.0, 0.0], [0.0, 1.0]])\n",
    "\n",
    "                rows.append(el.loc_2_glob[i])\n",
    "                cols.append(el.loc_2_glob[j])\n",
    "                vals.append(val)\n",
    "\n",
    "    return scipy.sparse.coo_matrix((vals, (rows, cols))).tocsc()\n",
    "    "
   ]
  },
  {
   "cell_type": "code",
   "execution_count": null,
   "metadata": {},
   "outputs": [],
   "source": [
    "def find_and_eval(pt, bases, V, F, mesh):\n",
    "    closest_point, distance, triangle_id = (\n",
    "        trimesh.proximity.closest_point_naive(mesh, pt.reshape(1, 3)))\n",
    "\n",
    "    # find the closest element index\n",
    "    index = triangle_id[0]\n",
    "    # find the coords of the closest point in the closest element\n",
    "    coords = point_triangle_coord(closest_point, *V[F[index]])\n",
    "    \n",
    "    el = bases[index]\n",
    "    return [\n",
    "        (el.loc_2_glob[j], el.phi[j](coords))\n",
    "        for j in range(el.n_bases)\n",
    "    ]"
   ]
  },
  {
   "cell_type": "code",
   "execution_count": null,
   "metadata": {},
   "outputs": [],
   "source": [
    "def compute_mass_mat_cross(a, b, Vb, Fb):\n",
    "    rows, cols, vals = [], [], []\n",
    "    \n",
    "    q_pts = scheme.points.T\n",
    "    q_w = scheme.weights\n",
    "    \n",
    "    # Build a mesh for fast closest point\n",
    "    mesh = trimesh.Trimesh(Vb, Fb)\n",
    "    \n",
    "    for el in a:\n",
    "        for i in range(el.n_bases):\n",
    "            others = {}\n",
    "            \n",
    "            for t, w in zip(q_pts, q_w):\n",
    "                pt = el.gmapping(t)\n",
    "                bb = find_and_eval(pt, b, Vb, Fb, mesh)\n",
    "                \n",
    "                for j in bb:\n",
    "                    if j[0] not in others:\n",
    "                        others[j[0]] = 0\n",
    "                    others[j[0]] += w*j[1]*el.phi[i](t) * el.grad_gmapping(t)\n",
    "            \n",
    "            for j in others:\n",
    "                rows.append(el.loc_2_glob[i])\n",
    "                cols.append(j)\n",
    "                vals.append(others[j])\n",
    "\n",
    "    return scipy.sparse.coo_matrix((vals, (rows, cols))).tocsc()"
   ]
  },
  {
   "cell_type": "code",
   "execution_count": null,
   "metadata": {},
   "outputs": [],
   "source": [
    "A = V_coll\n",
    "F_A = F_coll\n",
    "B = V_fem\n",
    "F_B = F_fem"
   ]
  },
  {
   "cell_type": "code",
   "execution_count": null,
   "metadata": {},
   "outputs": [],
   "source": [
    "A_bases = build_bases(A, F_A)\n",
    "B_bases = build_bases(B, F_B)"
   ]
  },
  {
   "cell_type": "code",
   "execution_count": null,
   "metadata": {},
   "outputs": [],
   "source": [
    "MM = compute_mass_mat(A_bases)\n",
    "assert(MM.shape == (A.shape[0], A.shape[0]))"
   ]
  },
  {
   "cell_type": "code",
   "execution_count": null,
   "metadata": {},
   "outputs": [
    {
     "name": "stdout",
     "output_type": "stream",
     "text": [
      "(8, 4912) (8, 4913)\n"
     ]
    }
   ],
   "source": [
    "M = compute_mass_mat_cross(A_bases, B_bases, B, F_B)\n",
    "print(M.shape, (A.shape[0], B.shape[0]))"
   ]
  },
  {
   "cell_type": "code",
   "execution_count": null,
   "metadata": {},
   "outputs": [
    {
     "data": {
      "text/plain": [
       "((8, 4912), (8, 8))"
      ]
     },
     "execution_count": 183,
     "metadata": {},
     "output_type": "execute_result"
    }
   ],
   "source": [
    "M.shape, MM.shape"
   ]
  },
  {
   "cell_type": "code",
   "execution_count": null,
   "metadata": {},
   "outputs": [],
   "source": [
    "def density(A):\n",
    "    return (A.nnz / numpy.product(A.shape)) * 100\n",
    "\n",
    "def print_density(A):\n",
    "    print(f\"{density(A):.2f}%\")\n",
    "\n",
    "def eliminate_near_zeros(A, tol=1e-12):\n",
    "    A.data[numpy.abs(A.data) < tol] = 0\n",
    "    A.eliminate_zeros()\n",
    "\n",
    "def unity_error(W, tol=1e-11):\n",
    "    return numpy.max(abs(W.sum(axis=1) - 1))"
   ]
  },
  {
   "cell_type": "code",
   "execution_count": null,
   "metadata": {},
   "outputs": [
    {
     "name": "stdout",
     "output_type": "stream",
     "text": [
      "8.31%\n",
      "1.0000000000000027\n"
     ]
    }
   ],
   "source": [
    "W = spsolve(MM, M)\n",
    "eliminate_near_zeros(W)\n",
    "print_density(W)\n",
    "print(unity_error(W))"
   ]
  },
  {
   "cell_type": "code",
   "execution_count": null,
   "metadata": {},
   "outputs": [
    {
     "name": "stderr",
     "output_type": "stream",
     "text": [
      "/home/zachary/.local/lib/python3.10/site-packages/scipy/sparse/_index.py:146: SparseEfficiencyWarning: Changing the sparsity structure of a csc_matrix is expensive. lil_matrix is more efficient.\n",
      "  self._set_arrayXarray(i, j, x)\n"
     ]
    },
    {
     "name": "stdout",
     "output_type": "stream",
     "text": [
      "0.6953326791257574 3.99% 1.0000000000000009\n"
     ]
    }
   ],
   "source": [
    "MM_lumped = scipy.sparse.csc_matrix(MM.shape)\n",
    "MM_lumped.setdiag(MM.sum(axis=1))\n",
    "W_lumped = spsolve(MM_lumped, M)\n",
    "eliminate_near_zeros(W_lumped)\n",
    "# print_density(W_lumped)\n",
    "# print(unity_error(W_lumped))\n",
    "print(f\"{numpy.linalg.norm((W - W_lumped).A)} {density(W_lumped):.2f}% {unity_error(W_lumped)}\")"
   ]
  },
  {
   "cell_type": "code",
   "execution_count": null,
   "metadata": {},
   "outputs": [
    {
     "name": "stdout",
     "output_type": "stream",
     "text": [
      "cg_tol: error, density\n",
      "1e-06: 3.485807911153541e-16 8.31%\n",
      "1e-05: 3.485807911153541e-16 8.31%\n",
      "0.0001: 1.2853659998623616e-05 8.31%\n",
      "0.001: 0.000911758048296602 8.31%\n",
      "0.001: 0.5955384112392975 8.31% 2.1094237467877974e-15\n"
     ]
    }
   ],
   "source": [
    "print(\"cg_tol: error, density\")\n",
    "for tol in numpy.geomspace(1e-6, 1e-3, 4):\n",
    "    W_CG = numpy.hstack([\n",
    "        scipy.sparse.linalg.cg(MM, M.A[:, i], tol=tol)[0].reshape(-1, 1)\n",
    "        for i in range(M.shape[1])])\n",
    "    W_CG = scipy.sparse.csc_matrix(W_CG)\n",
    "    eliminate_near_zeros(W_CG)\n",
    "    print(f\"{tol}: {numpy.linalg.norm((W - W_CG).A)} {density(W_CG):.2f}%\")\n",
    "W_CG /= W_CG.sum(axis=1)\n",
    "W_CG = scipy.sparse.csc_matrix(W_CG)\n",
    "eliminate_near_zeros(W_CG)\n",
    "print(f\"{tol}: {numpy.linalg.norm((W - W_CG).A)} {density(W_CG):.2f}% {unity_error(W_CG)}\")"
   ]
  },
  {
   "cell_type": "code",
   "execution_count": null,
   "metadata": {},
   "outputs": [
    {
     "name": "stdout",
     "output_type": "stream",
     "text": [
      "drop_tol: error, density, unity error\n",
      "0.0001: 0.0 8.31% 2.1094237467877974e-15\n",
      "0.001: 0.0 8.31% 2.1094237467877974e-15\n",
      "0.01: 0.0 8.31% 2.1094237467877974e-15\n"
     ]
    }
   ],
   "source": [
    "print(\"drop_tol: error, density, unity error\")\n",
    "for drop_tol in numpy.geomspace(1e-4, 1e-2, 3):\n",
    "    MM_LU = scipy.sparse.linalg.spilu(MM, drop_tol=drop_tol)\n",
    "    W_spilu = numpy.hstack([\n",
    "        MM_LU.solve(M.A[:, i]).reshape(-1, 1) for i in range(M.shape[1])])\n",
    "    W_spilu = scipy.sparse.csc_matrix(W_spilu)\n",
    "    eliminate_near_zeros(W_spilu)\n",
    "    print(f\"{drop_tol}: {numpy.linalg.norm((W - W_spilu).A)} {density(W_spilu):.2f}% {unity_error(W_CG)}\")"
   ]
  },
  {
   "cell_type": "code",
   "execution_count": null,
   "metadata": {},
   "outputs": [
    {
     "name": "stdout",
     "output_type": "stream",
     "text": [
      "3.99%\n",
      "68.75%\n",
      "(8, 4912) (4913, 3) (8, 3)\n"
     ]
    }
   ],
   "source": [
    "print_density(M)\n",
    "print_density(MM)\n",
    "print(W.shape, U_fem.shape, V_coll.shape)"
   ]
  },
  {
   "cell_type": "markdown",
   "metadata": {},
   "source": [
    "## Visualization"
   ]
  },
  {
   "cell_type": "code",
   "execution_count": null,
   "metadata": {},
   "outputs": [],
   "source": [
    "def MeshTrace(V, F, mode=\"markers+lines\", name=\"\"):\n",
    "    segments_x = []\n",
    "    segments_y = []\n",
    "    for f in F:\n",
    "        segments_x.extend(V[f, 0].tolist() + [None])\n",
    "        segments_y.extend(V[f, 1].tolist() + [None])\n",
    "    return go.Scatter(x=segments_x, y=segments_y, mode=mode, name=name)"
   ]
  },
  {
   "cell_type": "code",
   "execution_count": null,
   "metadata": {},
   "outputs": [
    {
     "ename": "ValueError",
     "evalue": "dimension mismatch",
     "output_type": "error",
     "traceback": [
      "\u001b[0;31m---------------------------------------------------------------------------\u001b[0m",
      "\u001b[0;31mValueError\u001b[0m                                Traceback (most recent call last)",
      "\u001b[1;32m/home/zachary/Development/decoupled-contact/notebooks/displacement_map_3D.ipynb Cell 27'\u001b[0m in \u001b[0;36m<module>\u001b[0;34m\u001b[0m\n\u001b[0;32m----> <a href='vscode-notebook-cell://ssh-remote%2Bartemis/home/zachary/Development/decoupled-contact/notebooks/displacement_map_3D.ipynb#ch0000032vscode-remote?line=0'>1</a>\u001b[0m X_coll \u001b[39m=\u001b[39m V_coll \u001b[39m+\u001b[39m W \u001b[39m@\u001b[39;49m U_fem\n\u001b[1;32m      <a href='vscode-notebook-cell://ssh-remote%2Bartemis/home/zachary/Development/decoupled-contact/notebooks/displacement_map_3D.ipynb#ch0000032vscode-remote?line=1'>2</a>\u001b[0m X_coll_lumped \u001b[39m=\u001b[39m V_coll \u001b[39m+\u001b[39m W_lumped \u001b[39m@\u001b[39m U_fem\n\u001b[1;32m      <a href='vscode-notebook-cell://ssh-remote%2Bartemis/home/zachary/Development/decoupled-contact/notebooks/displacement_map_3D.ipynb#ch0000032vscode-remote?line=2'>3</a>\u001b[0m X_coll_CG \u001b[39m=\u001b[39m V_coll \u001b[39m+\u001b[39m W_CG \u001b[39m@\u001b[39m U_fem\n",
      "File \u001b[0;32m~/.local/lib/python3.10/site-packages/scipy/sparse/_base.py:620\u001b[0m, in \u001b[0;36mspmatrix.__matmul__\u001b[0;34m(self, other)\u001b[0m\n\u001b[1;32m    <a href='file:///home/zachary/.local/lib/python3.10/site-packages/scipy/sparse/_base.py?line=616'>617</a>\u001b[0m \u001b[39mif\u001b[39;00m isscalarlike(other):\n\u001b[1;32m    <a href='file:///home/zachary/.local/lib/python3.10/site-packages/scipy/sparse/_base.py?line=617'>618</a>\u001b[0m     \u001b[39mraise\u001b[39;00m \u001b[39mValueError\u001b[39;00m(\u001b[39m\"\u001b[39m\u001b[39mScalar operands are not allowed, \u001b[39m\u001b[39m\"\u001b[39m\n\u001b[1;32m    <a href='file:///home/zachary/.local/lib/python3.10/site-packages/scipy/sparse/_base.py?line=618'>619</a>\u001b[0m                      \u001b[39m\"\u001b[39m\u001b[39muse \u001b[39m\u001b[39m'\u001b[39m\u001b[39m*\u001b[39m\u001b[39m'\u001b[39m\u001b[39m instead\u001b[39m\u001b[39m\"\u001b[39m)\n\u001b[0;32m--> <a href='file:///home/zachary/.local/lib/python3.10/site-packages/scipy/sparse/_base.py?line=619'>620</a>\u001b[0m \u001b[39mreturn\u001b[39;00m \u001b[39mself\u001b[39;49m\u001b[39m.\u001b[39;49m_mul_dispatch(other)\n",
      "File \u001b[0;32m~/.local/lib/python3.10/site-packages/scipy/sparse/_base.py:570\u001b[0m, in \u001b[0;36mspmatrix._mul_dispatch\u001b[0;34m(self, other)\u001b[0m\n\u001b[1;32m    <a href='file:///home/zachary/.local/lib/python3.10/site-packages/scipy/sparse/_base.py?line=564'>565</a>\u001b[0m \u001b[39melif\u001b[39;00m other\u001b[39m.\u001b[39mndim \u001b[39m==\u001b[39m \u001b[39m2\u001b[39m:\n\u001b[1;32m    <a href='file:///home/zachary/.local/lib/python3.10/site-packages/scipy/sparse/_base.py?line=565'>566</a>\u001b[0m     \u001b[39m##\u001b[39;00m\n\u001b[1;32m    <a href='file:///home/zachary/.local/lib/python3.10/site-packages/scipy/sparse/_base.py?line=566'>567</a>\u001b[0m     \u001b[39m# dense 2D array or matrix (\"multivector\")\u001b[39;00m\n\u001b[1;32m    <a href='file:///home/zachary/.local/lib/python3.10/site-packages/scipy/sparse/_base.py?line=568'>569</a>\u001b[0m     \u001b[39mif\u001b[39;00m other\u001b[39m.\u001b[39mshape[\u001b[39m0\u001b[39m] \u001b[39m!=\u001b[39m \u001b[39mself\u001b[39m\u001b[39m.\u001b[39mshape[\u001b[39m1\u001b[39m]:\n\u001b[0;32m--> <a href='file:///home/zachary/.local/lib/python3.10/site-packages/scipy/sparse/_base.py?line=569'>570</a>\u001b[0m         \u001b[39mraise\u001b[39;00m \u001b[39mValueError\u001b[39;00m(\u001b[39m'\u001b[39m\u001b[39mdimension mismatch\u001b[39m\u001b[39m'\u001b[39m)\n\u001b[1;32m    <a href='file:///home/zachary/.local/lib/python3.10/site-packages/scipy/sparse/_base.py?line=571'>572</a>\u001b[0m     result \u001b[39m=\u001b[39m \u001b[39mself\u001b[39m\u001b[39m.\u001b[39m_mul_multivector(np\u001b[39m.\u001b[39masarray(other))\n\u001b[1;32m    <a href='file:///home/zachary/.local/lib/python3.10/site-packages/scipy/sparse/_base.py?line=573'>574</a>\u001b[0m     \u001b[39mif\u001b[39;00m \u001b[39misinstance\u001b[39m(other, np\u001b[39m.\u001b[39mmatrix):\n",
      "\u001b[0;31mValueError\u001b[0m: dimension mismatch"
     ]
    }
   ],
   "source": [
    "X_coll = V_coll + W @ U_fem\n",
    "X_coll_lumped = V_coll + W_lumped @ U_fem\n",
    "X_coll_CG = V_coll + W_CG @ U_fem\n",
    "X_coll_spilu = V_coll + W_spilu @ U_fem\n",
    "X_fem = V_fem + U_fem\n",
    "\n",
    "fig = make_subplots(rows=1, cols=2)\n",
    "\n",
    "fig.add_trace(MeshTrace(V_fem, F_fem, name=\"V_fem\"), row=1, col=1)\n",
    "fig.add_trace(MeshTrace(V_coll, F_coll, name=\"V_coll\"), row=1, col=1)\n",
    "fig.add_trace(MeshTrace(X_fem, F_fem,  mode=\"lines\", name=\"Deformed V_fem\"), row=1, col=2)\n",
    "fig.add_trace(MeshTrace(X_coll, F_coll,  mode=\"lines\", name=\"Deformed V_coll\"), row=1, col=2)\n",
    "fig.add_trace(MeshTrace(X_coll_lumped, F_coll,  mode=\"lines\", name=\"Deformed (lumped) V_coll\"), row=1, col=2)\n",
    "fig.add_trace(MeshTrace(X_coll_CG, F_coll,  mode=\"lines\", name=\"Deformed (CG) V_coll\"), row=1, col=2)\n",
    "fig.add_trace(MeshTrace(X_coll_spilu, F_coll,  mode=\"lines\", name=\"Deformed (ILU) V_coll\"), row=1, col=2)\n",
    "\n",
    "fig.update_layout(width=1500, height=750, title=\"Displace V_fem\")\n",
    "fig.update_yaxes(scaleanchor=\"x\", scaleratio=1)"
   ]
  },
  {
   "cell_type": "code",
   "execution_count": null,
   "metadata": {},
   "outputs": [],
   "source": [
    "X_coll = V_coll + U_coll\n",
    "X_fem = V_fem + W.T @ U_coll\n",
    "X_fem_lumped = V_fem + W_lumped.T @ U_coll\n",
    "\n",
    "fig = make_subplots(rows=2, cols=2)\n",
    "\n",
    "fig.add_trace(MeshTrace(V_coll, E_coll, name=\"V_coll\"), row=1, col=1),\n",
    "fig.add_trace(MeshTrace(V_fem, E_fem, name=\"V_fem\"), row=1, col=2),\n",
    "fig.add_trace(MeshTrace(X_coll, E_coll, name=\"Deformed V_coll\"), row=2, col=1),\n",
    "fig.add_trace(MeshTrace(X_fem, E_fem, name=\"Deformed V_fem\"), row=2, col=2),\n",
    "fig.add_trace(MeshTrace(X_fem_lumped, E_fem, name=\"Deformed (lumped) V_fem\"), row=2, col=2),\n",
    "\n",
    "fig.update_layout(width=800, height=800, title=\"Displace V_fem\")\n",
    "\n",
    "None"
   ]
  },
  {
   "cell_type": "code",
   "execution_count": null,
   "metadata": {},
   "outputs": [],
   "source": []
  }
 ],
 "metadata": {
  "interpreter": {
   "hash": "e7370f93d1d0cde622a1f8e1c04877d8463912d04d973331ad4851f04de6915a"
  },
  "kernelspec": {
   "display_name": "Python 3",
   "language": "python",
   "name": "python3"
  },
  "language_info": {
   "codemirror_mode": {
    "name": "ipython",
    "version": 3
   },
   "file_extension": ".py",
   "mimetype": "text/x-python",
   "name": "python",
   "nbconvert_exporter": "python",
   "pygments_lexer": "ipython3",
   "version": "3.10.2"
  }
 },
 "nbformat": 4,
 "nbformat_minor": 2
}
