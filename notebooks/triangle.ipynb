{
   "cells": [{
         "cell_type": "code",
         "execution_count": 2,
         "metadata": {},
         "outputs": [],
         "source": [
            "import itertools\n",
            "\n",
            "import numpy as np\n",
            "from scipy.spatial.transform import Rotation\n",
            "\n",
            "import meshplot as mp\n",
            "import triangle as tr"
         ]
      },
      {
         "cell_type": "code",
         "execution_count": 3,
         "metadata": {},
         "outputs": [],
         "source": [
            "shading = {\n",
            "    \"flat\": True, # Flat or smooth shading of triangles\n",
            "    \"wireframe\": True, \"wire_width\": 0.1, \"wire_color\": \"black\", # Wireframe rendering\n",
            "    \"width\": 600, \"height\": 600, # Size of the viewer canvas\n",
            "    \"antialias\": True, # Antialising, might not work on all GPUs\n",
            "    \"scale\": 2.0, # Scaling of the model\n",
            "    \"side\": \"DoubleSide\", # FrontSide, BackSide or DoubleSide rendering of the triangles\n",
            "    \"colormap\": \"viridis\", \"normalize\": [None, None], # Colormap and normalization for colors\n",
            "    \"background\": \"#ffffff\", # Background color of the canvas\n",
            "    \"line_width\": 2.0, \"line_color\": \"black\", # Line properties of overlay lines\n",
            "    \"bbox\": False, # Enable plotting of bounding box\n",
            "    \"point_color\": \"red\", \"point_size\": 0.05 # Point properties of overlay points\n",
            "}"
         ]
      },
      {
         "cell_type": "code",
         "execution_count": 4,
         "metadata": {},
         "outputs": [],
         "source": [
            "def regular_2D_grid(n):\n",
            "    delta = 1 / (n - 1)\n",
            "    # map from (i, j) coordinates to vertex id\n",
            "    ij2v = np.full((n, n), -1)\n",
            "    V = []\n",
            "\n",
            "    # Corner Vertices\n",
            "    V.extend([[0, 0], [1, 0], [0, 1]])\n",
            "    ij2v[0, 0] = 0\n",
            "    ij2v[-1, 0] = 1\n",
            "    ij2v[0, -1] = 2\n",
            "\n",
            "    # Edge vertices\n",
            "    # [0, 0] -> [1, 0]\n",
            "    ij2v[1:-1, 0] = np.arange(n - 2) + 3\n",
            "    V.extend([[x, 0] for x in np.linspace(0, 1, n)[1:-1]])\n",
            "    # [1, 0] -> [0, 1]\n",
            "    ij2v[np.arange(n - 2, 0, -1), np.arange(1, n - 1)] = (\n",
            "        np.arange(n - 2) + (3 + n - 2))\n",
            "    V.extend([[1 - x, x] for x in np.linspace(0, 1, n)[1:-1]])\n",
            "    # [0, 1] -> [0, 0]\n",
            "    ij2v[0, -2:0:-1] = np.arange(n - 2) + (3 + 2 * (n - 2))\n",
            "    V.extend([[0, 1 - y] for y in np.linspace(0, 1, n)[1:-1]])\n",
            "\n",
            "    # Interior vertices\n",
            "    for j in range(1, n - 1):\n",
            "        for i in range(1, n - 1):\n",
            "            if i + j >= n - 1:\n",
            "                break\n",
            "            ij2v[i, j] = len(V)\n",
            "            V.append([i * delta, j * delta])\n",
            "\n",
            "    # Create triangulated faces\n",
            "    F = []\n",
            "    for i, j in itertools.product(range(n - 1), range(n - 1)):\n",
            "        for f in [ij2v[[i, i + 1, i], [j, j, j + 1]],\n",
            "                  ij2v[[i + 1, i + 1, i], [j, j + 1, j + 1]]]:\n",
            "            if (f >= 0).all():\n",
            "                F.append(f)\n",
            "\n",
            "    return np.array(V), np.array(F)"
         ]
      },
      {
         "cell_type": "code",
         "execution_count": 5,
         "metadata": {},
         "outputs": [],
         "source": [
            "in_V = np.array([\n",
            "    [0.4987804 , 0.77914574, 0],\n",
            "    [0.41414302, 0.66677665, 1],\n",
            "    [0.31142051, 0.14120175, 0]\n",
            "])\n",
            "# in_V = np.array([\n",
            "#     [0, 0],\n",
            "#     [1, 0],\n",
            "#     [0, 1]\n",
            "# ])\n",
            "\n",
            "in_E = np.array([[0, 1], [1, 2], [2, 0]])"
         ]
      },
      {
         "cell_type": "code",
         "execution_count": 6,
         "metadata": {},
         "outputs": [],
         "source": [
            "n_ref = 3\n",
            "V_grid, F_grid = regular_2D_grid(n_ref+2)\n",
            "V_reg = []\n",
            "for alpha, beta in V_grid:\n",
            "    V_reg.append((1 - alpha - beta) * in_V[0] + alpha * in_V[1] + beta * in_V[2])\n",
            "V_reg = np.vstack(V_reg)"
         ]
      },
      {
         "cell_type": "code",
         "execution_count": 7,
         "metadata": {},
         "outputs": [{
               "data": {
                  "application/vnd.jupyter.widget-view+json": {
                     "model_id": "5f31651e1b204beaad7fd70e564768d7",
                     "version_major": 2,
                     "version_minor": 0
                  },
                  "text/plain": [
                     "Renderer(camera=PerspectiveCamera(children=(DirectionalLight(color='white', intensity=0.6, position=(0.4051004…"
                  ]
               },
               "metadata": {},
               "output_type": "display_data"
            },
            {
               "data": {
                  "text/plain": [
                     "1"
                  ]
               },
               "execution_count": 7,
               "metadata": {},
               "output_type": "execute_result"
            }
         ],
         "source": [
            "plt = mp.plot(V_reg, F_grid, shading=shading)\n",
            "plt.add_points(V_reg, shading=shading)"
         ]
      },
      {
         "cell_type": "code",
         "execution_count": 8,
         "metadata": {},
         "outputs": [],
         "source": [
            "def refine_edges(in_V, in_E, max_edge_len):\n",
            "    # n_ref = 3\n",
            "    V = in_V.tolist()\n",
            "    E = []\n",
            "    for i in range(in_V.shape[0]):\n",
            "        v1, v0 = in_V[in_E[i]]\n",
            "        n_ref = int(np.ceil(np.linalg.norm(v1 - v0) / max_edge_len))\n",
            "        alphas = np.linspace(0, 1, n_ref+2)[1:-1]\n",
            "        E.append([in_E[i, 0], len(V)])\n",
            "        for ai, a in enumerate(alphas):\n",
            "            if ai < n_ref - 1:\n",
            "                E.append([len(V), len(V) + 1])\n",
            "            V.append((a * (v1 - v0) + v0).tolist())\n",
            "        E.append([len(V) - 1, in_E[i, 1]])\n",
            "\n",
            "    return np.vstack(V), np.vstack(E)"
         ]
      },
      {
         "cell_type": "code",
         "execution_count": 9,
         "metadata": {},
         "outputs": [{
               "name": "stderr",
               "output_type": "stream",
               "text": [
                  "/var/folders/y1/l7pg454j0jv6b028zqg1frsc0000gn/T/ipykernel_87164/3900946000.py:7: UserWarning: Optimal rotation is not uniquely or poorly defined for the given sets of vectors.\n",
                  "  R = Rotation.align_vectors(\n"
               ]
            },
            {
               "data": {
                  "application/vnd.jupyter.widget-view+json": {
                     "model_id": "45241e7d9a584feeb4cc4751f97d969f",
                     "version_major": 2,
                     "version_minor": 0
                  },
                  "text/plain": [
                     "Renderer(camera=PerspectiveCamera(children=(DirectionalLight(color='white', intensity=0.6, position=(0.4051004…"
                  ]
               },
               "metadata": {},
               "output_type": "display_data"
            },
            {
               "data": {
                  "text/plain": [
                     "3"
                  ]
               },
               "execution_count": 9,
               "metadata": {},
               "output_type": "execute_result"
            }
         ],
         "source": [
            "max_edge_len = 0.1\n",
            "p = 3 * max_edge_len / 2\n",
            "max_area = np.sqrt(p * (p - max_edge_len)**3)\n",
            "\n",
            "V, E = refine_edges(in_V, in_E, max_edge_len)\n",
            "\n",
            "R = Rotation.align_vectors(\n",
            "    np.array([[0, 0, 1]]),\n",
            "    np.cross(in_V[1] - in_V[0], in_V[2] - in_V[0]).reshape(1, 3))[0].as_matrix()\n",
            "\n",
            "V_2D = V @ R.T\n",
            "z = V_2D[:, 2].copy()\n",
            "assert((abs(z - z[0]) < 1e-12).all())\n",
            "z = z[0]\n",
            "V_2D = V_2D[:, :2]\n",
            "t = tr.triangulate({\"vertices\": V_2D, \"segments\": E}, f'Ya{max_area:f}q')\n",
            "\n",
            "V_out = np.hstack([t[\"vertices\"], np.full((t[\"vertices\"].shape[0], 1), z)]) @ R\n",
            "F_out = t[\"triangles\"]\n",
            "\n",
            "plt = mp.plot(V_out, F_out, shading=shading)\n",
            "plt.add_points(V_out, shading=shading)\n",
            "plt.add_edges(V, E, shading=(shading | {\"line_color\": \"blue\", \"line_width\": 2}))\n",
            "plt.add_points(V, shading=(shading | {\"point_color\": \"blue\"}))"
         ]
      }
   ],
   "metadata": {
      "kernelspec": {
         "display_name": "Python 3",
         "language": "python",
         "name": "python3"
      },
      "language_info": {
         "codemirror_mode": {
            "name": "ipython",
            "version": 3
         },
         "file_extension": ".py",
         "mimetype": "text/x-python",
         "name": "python",
         "nbconvert_exporter": "python",
         "pygments_lexer": "ipython3",
         "version": "3.11.4"
      },
      "orig_nbformat": 4,
      "vscode": {
         "interpreter": {
            "hash": "949777d72b0d2535278d3dc13498b2535136f6dfe0678499012e853ee9abcab1"
         }
      }
   },
   "nbformat": 4,
   "nbformat_minor": 2
}